{
 "metadata": {
  "language_info": {
   "codemirror_mode": {
    "name": "ipython",
    "version": 3
   },
   "file_extension": ".py",
   "mimetype": "text/x-python",
   "name": "python",
   "nbconvert_exporter": "python",
   "pygments_lexer": "ipython3",
   "version": "3.9.6"
  },
  "orig_nbformat": 4,
  "kernelspec": {
   "name": "python3",
   "display_name": "Python 3.9.6 64-bit ('.venv': venv)"
  },
  "interpreter": {
   "hash": "41c976a3581ca23dd5321440c1ba6aa61955a2d341cd42821c29af40225a7b53"
  }
 },
 "nbformat": 4,
 "nbformat_minor": 2,
 "cells": [
  {
   "cell_type": "markdown",
   "source": [
    "# Simple ATLAS Analysis\n",
    "\n",
    "Crude form to fetch ATLAS data and plot it"
   ],
   "metadata": {}
  },
  {
   "cell_type": "code",
   "execution_count": 1,
   "source": [
    "from func_adl_servicex import ServiceXSourceUpROOT\r\n",
    "from func_adl import ObjectStream\r\n",
    "from servicex import ignore_cache\r\n",
    "from hist import Hist\r\n",
    "import mplhep as mpl\r\n",
    "import awkward as ak\r\n",
    "\r\n",
    "from utils import files"
   ],
   "outputs": [],
   "metadata": {}
  },
  {
   "cell_type": "code",
   "execution_count": 2,
   "source": [
    "def make_ds(name: str):\r\n",
    "    '''Create a ServiceX Datasource for a particular ATLAS Open data file\r\n",
    "    '''\r\n",
    "    return ServiceXSourceUpROOT(files[name]['files'], files[name]['treename'], backend_name='dev_uproot')"
   ],
   "outputs": [],
   "metadata": {}
  },
  {
   "cell_type": "code",
   "execution_count": 3,
   "source": [
    "def apply_event_cuts (source: ObjectStream) -> ObjectStream:\r\n",
    "    '''Event level cuts for the analysis. Keep from sending data that we aren't going to need at all in the end.\r\n",
    "    '''\r\n",
    "    return (source\r\n",
    "        .Where(lambda e: e.trigE or e.trigM))"
   ],
   "outputs": [],
   "metadata": {}
  },
  {
   "cell_type": "code",
   "execution_count": 4,
   "source": [
    "ds = make_ds('ggH125_ZZ4lep')\r\n",
    "good_events = apply_event_cuts(ds)"
   ],
   "outputs": [],
   "metadata": {}
  },
  {
   "cell_type": "code",
   "execution_count": 5,
   "source": [
    "data = (good_events\r\n",
    "    .Select(lambda e: {\r\n",
    "        'lep_pt': e['lep_pt']\r\n",
    "        })\r\n",
    "    .AsAwkwardArray()\r\n",
    "    .value())"
   ],
   "outputs": [],
   "metadata": {}
  },
  {
   "cell_type": "code",
   "execution_count": 6,
   "source": [
    "len(data['lep_pt']), len(ak.flatten(data['lep_pt']))"
   ],
   "outputs": [
    {
     "output_type": "execute_result",
     "data": {
      "text/plain": [
       "(164716, 659806)"
      ]
     },
     "metadata": {},
     "execution_count": 6
    }
   ],
   "metadata": {}
  },
  {
   "cell_type": "markdown",
   "source": [
    "Some info on how the cuts are going\r\n",
    "\r\n",
    "| cuts | # Events | # Leptons |\r\n",
    "| -: | -: | -: |\r\n",
    "| None | 164,716 | 659806 |\r\n",
    "| E/M Trigger |  164,715 | 659802 |\r\n",
    "\r\n",
    "Total datasize of the full query: 25 MB\r\n"
   ],
   "metadata": {}
  },
  {
   "cell_type": "code",
   "execution_count": 7,
   "source": [
    "ak.count(data['lep_pt'], axis=1)"
   ],
   "outputs": [
    {
     "output_type": "execute_result",
     "data": {
      "text/plain": [
       "<Array [4, 4, 4, 4, 4, 4, ... 4, 4, 4, 4, 4, 4] type='164716 * int64'>"
      ]
     },
     "metadata": {},
     "execution_count": 7
    }
   ],
   "metadata": {}
  }
 ]
}