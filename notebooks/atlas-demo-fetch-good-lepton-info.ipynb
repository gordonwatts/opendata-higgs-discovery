{
 "metadata": {
  "language_info": {
   "codemirror_mode": {
    "name": "ipython",
    "version": 3
   },
   "file_extension": ".py",
   "mimetype": "text/x-python",
   "name": "python",
   "nbconvert_exporter": "python",
   "pygments_lexer": "ipython3",
   "version": "3.8.10"
  },
  "orig_nbformat": 4,
  "kernelspec": {
   "name": "python3810jvsc74a57bd03b01dae37977440b636d22625a08ccea3d4a5dd7dac9ee1bcc018aa68724fe57",
   "display_name": "Python 3.8.10 64-bit ('.venv': venv)",
   "language": "python"
  }
 },
 "nbformat": 4,
 "nbformat_minor": 2,
 "cells": [
  {
   "source": [
    "# Simple ATLAS Analysis\n",
    "\n",
    "Crude form to fetch ATLAS data and plot it"
   ],
   "cell_type": "markdown",
   "metadata": {}
  },
  {
   "cell_type": "code",
   "execution_count": 12,
   "metadata": {},
   "outputs": [],
   "source": [
    "from func_adl_servicex import ServiceXSourceUpROOT\n",
    "from func_adl import ObjectStream\n",
    "from hist import Hist\n",
    "import mplhep as mpl\n",
    "import awkward as ak\n",
    "\n",
    "from utils import files"
   ]
  },
  {
   "cell_type": "code",
   "execution_count": 6,
   "metadata": {},
   "outputs": [],
   "source": [
    "def make_ds(name: str):\n",
    "    '''Create a ServiceX Datasource for a particular ATLAS Open data file\n",
    "    '''\n",
    "    return ServiceXSourceUpROOT(files[name]['files'], files[name]['treename'], backend='open_uproot')"
   ]
  },
  {
   "cell_type": "code",
   "execution_count": 13,
   "metadata": {},
   "outputs": [],
   "source": [
    "def apply_event_cuts (source: ObjectStream) -> ObjectStream:\n",
    "    '''Event level cuts for the analysis. Keep from sending data that we aren't going to need at all in the end.\n",
    "    '''\n",
    "    return (source\n",
    "        .Where(lambda e: e.trigE or e.trigM))"
   ]
  },
  {
   "cell_type": "code",
   "execution_count": null,
   "metadata": {},
   "outputs": [],
   "source": [
    "def good_leptons(source: ObjectStream) -> ObjectStream:\n",
    "    '''Select out all good leptons from each event. Return their pt, eta, phi, and E, and other\n",
    "    things needed downstream.\n",
    "\n",
    "    Because uproot doesn't tie toegher the objects, we can't do any cuts at this point.\n",
    "    '''\n",
    "    return source.Select(lambda e: {\n",
    "        'lep_pt': e.lep_pt,\n",
    "        'lep_eta': e.lep_eta,\n",
    "        'lep_phi': e.lep_phi,\n",
    "        'lep_E': e.lep_E,\n",
    "        'lep_ptcone30': e.lep_ptcone30,\n",
    "        'lep_etcone20': e.lep_etcone20,\n",
    "        'lep_type': e.lep_type,\n",
    "        'lep_trackd0pvunbiased': e.lep_trackd0pvunbiased,\n",
    "        'lep_tracksigd0pvunbiased': e.lep_tracksigd0pvunbiased,\n",
    "        'lep_z0': e.lep_z0,\n",
    "    })    "
   ]
  },
  {
   "cell_type": "code",
   "execution_count": 16,
   "metadata": {},
   "outputs": [],
   "source": [
    "ds = make_ds('ggH125_ZZ4lep')\n",
    "good_events = apply_event_cuts(ds)"
   ]
  },
  {
   "cell_type": "code",
   "execution_count": 19,
   "metadata": {},
   "outputs": [
    {
     "output_type": "stream",
     "name": "stderr",
     "text": [
      "root://eospublic.cern.ch//eos/opendata/atlas/OutreachDatasets/2020-01-22/4lep/MC/mc_345060.ggH125_ZZ4lep.4lep.root:   0%|          | 0/9000000000.0 [00:00]\n",
      "root://eospublic.cern.ch//eos/opendata/atlas/OutreachDatasets/2020-01-22/4lep/MC/mc_345060.ggH125_ZZ4lep.4lep.root:   0%|          | 0/1 [00:00]\n",
      "        Downloaded:   0%|          | 0/1 [00:00]           \u001b[A\n",
      "root://eospublic.cern.ch//eos/opendata/atlas/OutreachDatasets/2020-01-22/4lep/MC/mc_345060.ggH125_ZZ4lep.4lep.root:   0%|          | 0/1 [00:05]\n",
      "        Downloaded:   0%|          | 0/1 [00:05]\u001b[A\n",
      "root://eospublic.cern.ch//eos/opendata/atlas/OutreachDatasets/2020-01-22/4lep/MC/mc_345060.ggH125_ZZ4lep.4lep.root:   0%|          | 0/1 [00:10]\n",
      "        Downloaded:   0%|          | 0/1 [00:10]\u001b[A\n",
      "                                                                                                                                                \n",
      "        Downloaded:   0%|          | 0/1 [00:15]\u001b[A\n",
      "        Downloaded:   0%|          | 0/1 [00:15]\u001b[A\n",
      "        Downloaded: 100%|██████████| 1/1 [00:17]\u001b[A\n",
      "        Downloaded: 100%|██████████| 1/1 [00:17]\u001b[A\n",
      "                                                \u001b[A"
     ]
    }
   ],
   "source": [
    "data = (good_events\n",
    "    .Select(\"lambda e: {'lep_pt': e['lep_pt']}\")\n",
    "    .AsAwkwardArray()\n",
    "    .value())"
   ]
  },
  {
   "cell_type": "code",
   "execution_count": 20,
   "metadata": {},
   "outputs": [
    {
     "output_type": "execute_result",
     "data": {
      "text/plain": [
       "(164715, 659802)"
      ]
     },
     "metadata": {},
     "execution_count": 20
    }
   ],
   "source": [
    "len(data['lep_pt']), len(ak.flatten(data['lep_pt']))"
   ]
  },
  {
   "source": [
    "Some info on how the cuts are going\n",
    "\n",
    "| cuts | # Events | # Leptons |\n",
    "| -: | -: | -: |\n",
    "| None | 164,716 | 659806 |\n",
    "| E/M Trigger |  164,715 | 659802 |\n"
   ],
   "cell_type": "markdown",
   "metadata": {}
  },
  {
   "cell_type": "code",
   "execution_count": 23,
   "metadata": {},
   "outputs": [
    {
     "output_type": "execute_result",
     "data": {
      "text/plain": [
       "<Array [4, 4, 4, 4, 4, 4, ... 4, 4, 4, 4, 4, 4] type='164715 * int64'>"
      ]
     },
     "metadata": {},
     "execution_count": 23
    }
   ],
   "source": [
    "ak.count(data['lep_pt'], axis=1)"
   ]
  },
  {
   "cell_type": "code",
   "execution_count": null,
   "metadata": {},
   "outputs": [],
   "source": []
  }
 ]
}