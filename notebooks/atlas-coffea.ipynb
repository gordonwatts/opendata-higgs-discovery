{
 "metadata": {
  "language_info": {
   "codemirror_mode": {
    "name": "ipython",
    "version": 3
   },
   "file_extension": ".py",
   "mimetype": "text/x-python",
   "name": "python",
   "nbconvert_exporter": "python",
   "pygments_lexer": "ipython3",
   "version": "3.8.10"
  },
  "orig_nbformat": 4,
  "kernelspec": {
   "name": "python3",
   "display_name": "Python 3.8.10 64-bit"
  },
  "interpreter": {
   "hash": "f2575392019334285e0602a4035eec46b9260ee4c95297ea34ade6e3c8b8fcaf"
  }
 },
 "nbformat": 4,
 "nbformat_minor": 2,
 "cells": [
  {
   "cell_type": "markdown",
   "source": [
    "# Test Coffea\n",
    "\n",
    "This will test Coffea to see if we can figure out how to use it with our code.\n",
    "\n",
    "First are the includes from coffea. This is based on the [example written by Ben](https://github.com/CoffeaTeam/coffea/blob/master/binder/servicex/ATLAS/LocalExample.ipynb)."
   ],
   "metadata": {}
  },
  {
   "cell_type": "code",
   "execution_count": 1,
   "source": [
    "from servicex import ServiceXDataset\n",
    "from coffea.processor.servicex import DataSource, Analysis\n",
    "from coffea.processor.servicex import LocalExecutor \n",
    "\n",
    "import matplotlib.pyplot as plt\n",
    "\n",
    "from coffea import hist, processor\n",
    "from IPython.display import display, update_display, HTML"
   ],
   "outputs": [],
   "metadata": {}
  },
  {
   "cell_type": "markdown",
   "source": [
    "And imports connected with running servicex."
   ],
   "metadata": {}
  },
  {
   "cell_type": "code",
   "execution_count": 2,
   "source": [
    "from func_adl import ObjectStream\n",
    "from func_adl_servicex import ServiceXSourceUpROOT\n",
    "from hist import Hist\n",
    "import mplhep as mpl\n",
    "import awkward as ak\n",
    "\n",
    "from utils import files"
   ],
   "outputs": [],
   "metadata": {}
  },
  {
   "cell_type": "markdown",
   "source": [
    "Methods copied to help us get all leptons from the source files"
   ],
   "metadata": {}
  },
  {
   "cell_type": "code",
   "execution_count": 3,
   "source": [
    "def apply_event_cuts (source: ObjectStream) -> ObjectStream:\n",
    "    '''Event level cuts for the analysis. Keep from sending data that we aren't going to need at all in the end.\n",
    "    '''\n",
    "    return (source\n",
    "        .Where(lambda e: e.trigE or e.trigM))\n",
    "def good_leptons(source: ObjectStream) -> ObjectStream:\n",
    "    '''Select out all good leptons from each event. Return their pt, eta, phi, and E, and other\n",
    "    things needed downstream.\n",
    "\n",
    "    Because uproot doesn't tie toegher the objects, we can't do any cuts at this point.\n",
    "    '''\n",
    "    return source.Select(lambda e:\n",
    "        {\n",
    "            'lep_pt': e.lep_pt,\n",
    "            'lep_eta': e.lep_eta,\n",
    "            'lep_phi': e.lep_phi,\n",
    "            'lep_energy': e.lep_E,\n",
    "            'lep_charge': e.lep_charge,\n",
    "            'lep_ptcone30': e.lep_ptcone30,\n",
    "            'lep_etcone20': e.lep_etcone20,\n",
    "            'lep_type': e.lep_type,\n",
    "            'lep_trackd0pvunbiased': e.lep_trackd0pvunbiased,\n",
    "            'lep_tracksigd0pvunbiased': e.lep_tracksigd0pvunbiased,\n",
    "            'lep_z0': e.lep_z0,\n",
    "        })"
   ],
   "outputs": [],
   "metadata": {}
  },
  {
   "cell_type": "markdown",
   "source": [
    "Create the `func_adl` cuts to get the data. The dataset we use here doesn't matter, as long as it \"looks\" like all the datasets we are going to be processing."
   ],
   "metadata": {}
  },
  {
   "cell_type": "code",
   "execution_count": 4,
   "source": [
    "ds = ServiceXSourceUpROOT('cernopendata://dummy',  files['ggH125_ZZ4lep']['treename'], backend_name='uproot-af')\n",
    "ds.return_qastle = True\n",
    "leptons = good_leptons(apply_event_cuts(ds))"
   ],
   "outputs": [],
   "metadata": {}
  },
  {
   "cell_type": "markdown",
   "source": [
    "The analysis code that will apply the 4 lepton cuts and make the 4 lepton mass plot."
   ],
   "metadata": {}
  },
  {
   "cell_type": "code",
   "execution_count": 5,
   "source": [
    "class ATLAS_Higgs_4L(Analysis):\n",
    "    @staticmethod\n",
    "    def process(events):\n",
    "        import awkward as ak\n",
    "        from collections import defaultdict\n",
    "\n",
    "        sumw = defaultdict(float)\n",
    "        mass_hist = hist.Hist(\n",
    "            \"Events\",\n",
    "            hist.Cat(\"dataset\", \"Dataset\"),\n",
    "            hist.Bin(\"mass\", \"$Z_{ee}$ [GeV]\", 60, 60, 120),\n",
    "        )\n",
    "\n",
    "        dataset = events.metadata['dataset']\n",
    "        leptons = events.lep\n",
    "\n",
    "        # We need to look at 4 lepton events only.\n",
    "        cut = (ak.num(leptons) == 4)\n",
    "\n",
    "        # Form the invar mass, plot.\n",
    "        # diele = electrons[cut][:, 0] + electrons[cut][:, 1]\n",
    "        # diele.mass\n",
    "        dilepton = leptons[:,0] + leptons[:,1]\n",
    "        mass_4l = leptons.mass\n",
    "\n",
    "        # Fill the histogram\n",
    "        sumw[dataset] += len(events)\n",
    "        print(len(events))\n",
    "        mass_hist.fill(\n",
    "            dataset=dataset,\n",
    "            mass=ak.flatten(mass_4l),\n",
    "        )\n",
    "        \n",
    "        return {\n",
    "            \"sumw\": sumw,\n",
    "            \"mass\": mass_hist\n",
    "        }"
   ],
   "outputs": [],
   "metadata": {}
  },
  {
   "cell_type": "markdown",
   "source": [
    "Create the data source that we will be running against."
   ],
   "metadata": {}
  },
  {
   "cell_type": "code",
   "execution_count": 6,
   "source": [
    "def make_ds(name: str, query: ObjectStream):\n",
    "    '''Create a ServiceX Datasource for a particular ATLAS Open data file\n",
    "    '''\n",
    "    datasets = [ServiceXDataset(files[name]['files'], backend_name='uproot-af')]\n",
    "    return DataSource(query=query, metadata={'dataset': name}, datasets=datasets)"
   ],
   "outputs": [],
   "metadata": {}
  },
  {
   "cell_type": "markdown",
   "source": [
    "And run!"
   ],
   "metadata": {}
  },
  {
   "cell_type": "code",
   "execution_count": 7,
   "source": [
    "analysis = ATLAS_Higgs_4L()\n",
    "# TODO: It would be good if datatype was determined automagically (there is enough info)\n",
    "executor = LocalExecutor()\n",
    "datasource = make_ds('ggH125_ZZ4lep', leptons)\n",
    "\n",
    "async def run_updates_stream(accumulator_stream):\n",
    "  global first\n",
    "\n",
    "  count = 0\n",
    "  async for coffea_info in accumulator_stream:\n",
    "    count += 1\n",
    "    print(count, coffea_info)\n",
    "  return coffea_info\n",
    "\n",
    "# Why do I need run_updates_stream, why not just await on execute (which fails with async gen can't).\n",
    "# Perhaps something from aiostream can help here?\n",
    "result = await run_updates_stream(executor.execute(analysis, datasource))"
   ],
   "outputs": [
    {
     "output_type": "stream",
     "name": "stderr",
     "text": [
      "C:\\Users\\ilija\\AppData\\Local\\Packages\\PythonSoftwareFoundation.Python.3.8_qbz5n2kfra8p0\\LocalCache\\local-packages\\Python38\\site-packages\\numba\\core\\cpu.py:97: UserWarning: Numba extension module 'awkward1._connect._numba' failed to load due to 'ImportError(generic_type: type \"kernel_lib\" is already registered!)'.\n",
      "  numba.core.entrypoints.init_all()\n"
     ]
    },
    {
     "output_type": "stream",
     "name": "stdout",
     "text": [
      "164716\n",
      "1 {'sumw': defaultdict(<class 'float'>, {'[root://eospublic.cern.ch//eos/opendata/atlas/OutreachDatasets/2020-01-22/4lep/MC/mc_345060.ggH125_ZZ4lep.4lep.root]': 164716.0}), 'mass': <Hist (dataset,mass) instance at 0x1d5b01c6190>}\n"
     ]
    },
    {
     "output_type": "stream",
     "name": "stderr",
     "text": [
      "C:\\Users\\ilija\\AppData\\Local\\Packages\\PythonSoftwareFoundation.Python.3.8_qbz5n2kfra8p0\\LocalCache\\local-packages\\Python38\\site-packages\\awkward\\_connect\\_numpy.py:207: RuntimeWarning: invalid value encountered in sqrt\n",
      "  result = getattr(ufunc, method)(\n"
     ]
    }
   ],
   "metadata": {}
  },
  {
   "cell_type": "code",
   "execution_count": 8,
   "source": [
    "hist.plot1d(result['mass'])"
   ],
   "outputs": [
    {
     "output_type": "execute_result",
     "data": {
      "text/plain": [
       "<AxesSubplot:xlabel='$Z_{ee}$ [GeV]', ylabel='Events'>"
      ]
     },
     "metadata": {},
     "execution_count": 8
    },
    {
     "output_type": "display_data",
     "data": {
      "image/png": "[encoded data removed]",
      "text/plain": [
       "<Figure size 432x288 with 1 Axes>"
      ]
     },
     "metadata": {
      "needs_background": "light"
     }
    }
   ],
   "metadata": {}
  },
  {
   "cell_type": "code",
   "execution_count": null,
   "source": [],
   "outputs": [],
   "metadata": {}
  }
 ]
}