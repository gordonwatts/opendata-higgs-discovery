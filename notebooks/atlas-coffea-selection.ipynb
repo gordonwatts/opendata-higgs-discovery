{
 "metadata": {
  "language_info": {
   "codemirror_mode": {
    "name": "ipython",
    "version": 3
   },
   "file_extension": ".py",
   "mimetype": "text/x-python",
   "name": "python",
   "nbconvert_exporter": "python",
   "pygments_lexer": "ipython3",
   "version": "3.8.10"
  },
  "orig_nbformat": 4,
  "kernelspec": {
   "name": "python3",
   "display_name": "Python 3.8.10 64-bit"
  },
  "interpreter": {
   "hash": "f2575392019334285e0602a4035eec46b9260ee4c95297ea34ade6e3c8b8fcaf"
  }
 },
 "nbformat": 4,
 "nbformat_minor": 2,
 "cells": [
  {
   "cell_type": "markdown",
   "source": [
    "# Build a first version of the event selection for $H \\rightarrow 4 \\ell$\n",
    "\n",
    "This will test Coffea to see if we can figure out how to use it with our code.\n",
    "\n",
    "First are the includes from coffea. This is based on the [example written by Ben](https://github.com/CoffeaTeam/coffea/blob/master/binder/servicex/ATLAS/LocalExample.ipynb)."
   ],
   "metadata": {}
  },
  {
   "cell_type": "code",
   "execution_count": 1,
   "source": [
    "from servicex import ServiceXDataset\n",
    "from coffea.processor.servicex import DataSource, Analysis\n",
    "from coffea.processor.servicex import LocalExecutor \n",
    "\n",
    "import matplotlib.pyplot as plt\n",
    "import numpy as np\n",
    "\n",
    "from coffea import hist, processor\n",
    "from IPython.display import display, update_display, HTML"
   ],
   "outputs": [],
   "metadata": {}
  },
  {
   "cell_type": "markdown",
   "source": [
    "And imports connected with running servicex."
   ],
   "metadata": {}
  },
  {
   "cell_type": "code",
   "execution_count": 2,
   "source": [
    "from func_adl import ObjectStream\n",
    "from func_adl_servicex import ServiceXSourceUpROOT\n",
    "from hist import Hist\n",
    "import mplhep as mpl\n",
    "import awkward as ak\n",
    "\n",
    "from utils import files"
   ],
   "outputs": [],
   "metadata": {}
  },
  {
   "cell_type": "markdown",
   "source": [
    "Methods copied to help us get all leptons from the source files"
   ],
   "metadata": {}
  },
  {
   "cell_type": "code",
   "execution_count": 3,
   "source": [
    "def apply_event_cuts (source: ObjectStream) -> ObjectStream:\n",
    "    '''Event level cuts for the analysis. Keep from sending data that we aren't going to need at all in the end.\n",
    "    '''\n",
    "    return (source\n",
    "        .Where(lambda e: e.trigE or e.trigM))\n",
    "\n",
    "def good_leptons(source: ObjectStream) -> ObjectStream:\n",
    "    '''Select out all good leptons from each event. Return their pt, eta, phi, and E, and other\n",
    "    things needed downstream.\n",
    "\n",
    "    Because uproot doesn't tie toegher the objects, we can't do any cuts at this point.\n",
    "    '''\n",
    "    return source.Select(lambda e:\n",
    "        {\n",
    "            'lep_pt': e.lep_pt,\n",
    "            'lep_eta': e.lep_eta,\n",
    "            'lep_phi': e.lep_phi,\n",
    "            'lep_energy': e.lep_E,\n",
    "            'lep_charge': e.lep_charge,\n",
    "            'lep_ptcone30': e.lep_ptcone30,\n",
    "            'lep_etcone20': e.lep_etcone20,\n",
    "            'lep_typeid': e.lep_type,\n",
    "            'lep_trackd0pvunbiased': e.lep_trackd0pvunbiased,\n",
    "            'lep_tracksigd0pvunbiased': e.lep_tracksigd0pvunbiased,\n",
    "            'lep_z0': e.lep_z0,\n",
    "            'mcWeight': e.mcWeight,\n",
    "            'scaleFactor': e.scaleFactor_ELE*e.scaleFactor_MUON*e.scaleFactor_LepTRIGGER*e.scaleFactor_PILEUP,\n",
    "        })"
   ],
   "outputs": [],
   "metadata": {}
  },
  {
   "cell_type": "markdown",
   "source": [
    "Create the `func_adl` cuts to get the data. The dataset we use here doesn't matter, as long as it \"looks\" like all the datasets we are going to be processing."
   ],
   "metadata": {}
  },
  {
   "cell_type": "code",
   "execution_count": 4,
   "source": [
    "ds = ServiceXSourceUpROOT('cernopendata://dummy',  \"mini\", backend_name='uproot-af')\n",
    "ds.return_qastle = True\n",
    "leptons = good_leptons(apply_event_cuts(ds))"
   ],
   "outputs": [],
   "metadata": {}
  },
  {
   "cell_type": "markdown",
   "source": [
    "The analysis code that will apply the 4 lepton cuts and make the 4 lepton mass plot."
   ],
   "metadata": {}
  },
  {
   "cell_type": "code",
   "execution_count": 5,
   "source": [
    "class ATLAS_Higgs_4L(Analysis):\n",
    "    @staticmethod\n",
    "    def process(events):\n",
    "        import awkward as ak\n",
    "        from collections import defaultdict\n",
    "\n",
    "        sumw = defaultdict(float)\n",
    "        mass_hist = hist.Hist(\n",
    "            \"Events\",\n",
    "            hist.Cat(\"channel\", \"Channel\"),\n",
    "            hist.Bin(\"mass\", \"$Z_{ee}$ [GeV]\", 60, 60, 180),\n",
    "        )\n",
    "        weight = events.scaleFactor*events.mcWeight\n",
    "\n",
    "        dataset = events.metadata['dataset']\n",
    "        leptons = events.lep\n",
    "\n",
    "        # Good electon selection\n",
    "        electrons_mask = ((leptons.typeid == 11)\n",
    "            & (leptons.pt > 7000.0)\n",
    "            & (abs(leptons.eta) <2.47)\n",
    "            & (leptons.etcone20 / leptons.pt < 0.3)\n",
    "            & (leptons.ptcone30 / leptons.pt < 0.3)\n",
    "            & (abs(leptons.trackd0pvunbiased) / leptons.tracksigd0pvunbiased < 5)\n",
    "            & (abs(leptons.z0*np.sin(leptons.theta)) < 0.5)\n",
    "        )\n",
    "\n",
    "        electrons_good = leptons[electrons_mask]\n",
    "\n",
    "        # Good muon selection\n",
    "        muon_mask = ((leptons.typeid == 13)\n",
    "            & (leptons.pt > 5000.0)\n",
    "            & (abs(leptons.eta) <2.5)\n",
    "            & (leptons.etcone20 / leptons.pt < 0.3)\n",
    "            & (leptons.ptcone30 / leptons.pt < 0.3)\n",
    "            & (abs(leptons.trackd0pvunbiased) / leptons.tracksigd0pvunbiased < 3)\n",
    "            & (abs(leptons.z0*np.sin(leptons.theta)) < 0.5)\n",
    "        )\n",
    "\n",
    "        muons_good = leptons[muon_mask]\n",
    "\n",
    "        # In order to cut in sorted lepton pt, we have to rebuild a lepton array here\n",
    "        leptons_good = ak.concatenate((electrons_good, muons_good), axis=1)\n",
    "        leptons_good_index = ak.argsort(leptons_good.pt, ascending=False)\n",
    "        leptons_good_sorted = leptons_good[leptons_good_index]\n",
    "\n",
    "        # Event level cuts now that we know the good leptons\n",
    "        # - We need to look at 4 good lepton events only\n",
    "        # - We need same flavor, so check for even numbers of each flavor\n",
    "        # - all charges must be balenced\n",
    "        event_mask = (\n",
    "            (ak.num(leptons_good_sorted) == 4)\n",
    "            & ((ak.num(electrons_good) == 0) | (ak.num(electrons_good) == 2) | (ak.num(electrons_good) == 4))\n",
    "            & ((ak.num(muons_good) == 0) | (ak.num(muons_good) == 2) | (ak.num(muons_good) == 4))\n",
    "            & (ak.sum(electrons_good.charge, axis=1) == 0)\n",
    "            & (ak.sum(muons_good.charge, axis=1) == 0)\n",
    "        )\n",
    "\n",
    "        # Next, we need to cut on the pT for the leading, sub-leading, and sub-sub-leading lepton\n",
    "        leptons_good_preselection = leptons_good[event_mask]\n",
    "        event_good_lepton_mask = (\n",
    "            (leptons_good_preselection[:,0].pt > 25000.0)\n",
    "            & (leptons_good_preselection[:,1].pt > 15000.0)\n",
    "            & (leptons_good_preselection[:,2].pt > 10000.0)\n",
    "        )\n",
    "\n",
    "        # Now, we need to rebuild the good muon and electron lists with those selections\n",
    "        muons_analysis = muons_good[event_mask][event_good_lepton_mask]\n",
    "        electrons_analysis = electrons_good[event_mask][event_good_lepton_mask]\n",
    "\n",
    "        # Lets do eemumu events - as there are no permutations there.abs\n",
    "        # At this point if there are two muons, there must be two electrons\n",
    "        eemumu_mask = (ak.num(muons_analysis) == 2)\n",
    "        muon_eemumu = muons_analysis[eemumu_mask]\n",
    "        electrons_eemumu = electrons_analysis[eemumu_mask]\n",
    "        z1_eemumu = muon_eemumu[:,0] + muon_eemumu[:,1]\n",
    "        z2_eemumu = electrons_eemumu[:,0] + electrons_eemumu[:,1]\n",
    "        h_eemumu = z1_eemumu + z2_eemumu\n",
    "\n",
    "        sumw[dataset] += len(h_eemumu)\n",
    "        mass_hist.fill(\n",
    "            channel='eemumu',\n",
    "            mass=h_eemumu.mass/1000.0,\n",
    "            weight=weight[eemumu_mask]\n",
    "        )\n",
    "\n",
    "        # Next, eeee. For this we have to build permutations and select the best one\n",
    "        def four_leptons_one_flavor(same_flavor_leptons, event_weights, channel: str):\n",
    "            fl_positive = same_flavor_leptons[same_flavor_leptons.charge > 0]\n",
    "            fl_negative = same_flavor_leptons[same_flavor_leptons.charge < 0]\n",
    "            fl_pairs = ak.cartesian((fl_positive, fl_negative))\n",
    "            # fl_pairs_args = ak.argcartesian((fl_positive, fl_negative))\n",
    "            zs = fl_pairs[\"0\"] + fl_pairs[\"1\"]\n",
    "\n",
    "            delta = abs((91.18*1000.0) - zs.mass[:])\n",
    "            closest_masses = np.min(delta, axis=-1)\n",
    "            the_closest = (delta == closest_masses)\n",
    "            the_furthest = the_closest[:,::-1]\n",
    "\n",
    "            h_eeee = zs[the_closest] + zs[the_furthest]\n",
    "            sumw[dataset] += len(h_eeee)\n",
    "            mass_hist.fill(\n",
    "                channel=channel,\n",
    "                mass=ak.flatten(h_eeee.mass/1000.0),\n",
    "                weight=event_weights,\n",
    "            )\n",
    "\n",
    "        four_leptons_one_flavor(electrons_analysis[(ak.num(electrons_analysis) == 4)],\n",
    "                                weight[(ak.num(electrons_analysis) == 4)],\n",
    "                                'eeee')\n",
    "        four_leptons_one_flavor(muons_analysis[(ak.num(muons_analysis) == 4)],\n",
    "                                weight[(ak.num(muons_analysis) == 4)],\n",
    "                                'mumumumu')\n",
    "        \n",
    "        return {\n",
    "            \"sumw\": sumw,\n",
    "            \"mass\": mass_hist,\n",
    "        }"
   ],
   "outputs": [],
   "metadata": {}
  },
  {
   "cell_type": "markdown",
   "source": [
    "Create the data source that we will be running against."
   ],
   "metadata": {}
  },
  {
   "cell_type": "code",
   "execution_count": 6,
   "source": [
    "def make_ds(name: str, query: ObjectStream):\n",
    "    '''Create a ServiceX Datasource for a particular ATLAS Open data file\n",
    "    '''\n",
    "    datasets = [ServiceXDataset(files[name]['files'], backend_name='uproot-af', image='sslhep/servicex_func_adl_uproot_transformer:pr_fix_awk_bug')]\n",
    "    return DataSource(query=query, metadata={'dataset': name}, datasets=datasets)"
   ],
   "outputs": [],
   "metadata": {}
  },
  {
   "cell_type": "markdown",
   "source": [
    "And run!"
   ],
   "metadata": {}
  },
  {
   "cell_type": "code",
   "execution_count": 7,
   "source": [
    "analysis = ATLAS_Higgs_4L()\n",
    "executor = LocalExecutor()\n",
    "datasource = make_ds('ggH125_ZZ4lep', leptons)\n",
    "\n",
    "async def run_updates_stream(accumulator_stream):\n",
    "  global first\n",
    "\n",
    "  count = 0\n",
    "  async for coffea_info in accumulator_stream:\n",
    "    pass\n",
    "  return coffea_info\n",
    "\n",
    "# Why do I need run_updates_stream, why not just await on execute (which fails with async gen can't).\n",
    "# Perhaps something from aiostream can help here?\n",
    "result = await run_updates_stream(executor.execute(analysis, datasource))"
   ],
   "outputs": [
    {
     "output_type": "stream",
     "name": "stderr",
     "text": [
      "C:\\Users\\ilija\\AppData\\Local\\Packages\\PythonSoftwareFoundation.Python.3.8_qbz5n2kfra8p0\\LocalCache\\local-packages\\Python38\\site-packages\\numba\\core\\cpu.py:97: UserWarning: Numba extension module 'awkward1._connect._numba' failed to load due to 'ImportError(generic_type: type \"kernel_lib\" is already registered!)'.\n",
      "  numba.core.entrypoints.init_all()\n"
     ]
    }
   ],
   "metadata": {}
  },
  {
   "cell_type": "code",
   "execution_count": 8,
   "source": [
    "hist.plot1d(result['mass'])"
   ],
   "outputs": [
    {
     "output_type": "execute_result",
     "data": {
      "text/plain": [
       "<AxesSubplot:xlabel='$Z_{ee}$ [GeV]', ylabel='Events'>"
      ]
     },
     "metadata": {},
     "execution_count": 8
    },
    {
     "output_type": "display_data",
     "data": {
      "image/png": "[encoded data removed]",
      "text/plain": [
       "<Figure size 432x288 with 1 Axes>"
      ]
     },
     "metadata": {
      "needs_background": "light"
     }
    }
   ],
   "metadata": {}
  },
  {
   "cell_type": "code",
   "execution_count": 9,
   "source": [
    "h = result['mass']"
   ],
   "outputs": [],
   "metadata": {}
  },
  {
   "cell_type": "code",
   "execution_count": 10,
   "source": [
    "hist.plot1d(h.project('mass'))"
   ],
   "outputs": [
    {
     "output_type": "execute_result",
     "data": {
      "text/plain": [
       "<AxesSubplot:xlabel='$Z_{ee}$ [GeV]', ylabel='Events'>"
      ]
     },
     "metadata": {},
     "execution_count": 10
    },
    {
     "output_type": "display_data",
     "data": {
      "image/png": "[encoded data removed]",
      "text/plain": [
       "<Figure size 432x288 with 1 Axes>"
      ]
     },
     "metadata": {
      "needs_background": "light"
     }
    }
   ],
   "metadata": {}
  },
  {
   "cell_type": "code",
   "execution_count": null,
   "source": [],
   "outputs": [],
   "metadata": {}
  }
 ]
}