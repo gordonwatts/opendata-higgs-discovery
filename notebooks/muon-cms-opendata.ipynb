{
 "cells": [
  {
   "cell_type": "code",
   "execution_count": 17,
   "metadata": {},
   "outputs": [],
   "source": [
    "from func_adl_servicex import ServiceXSourceCMSRun1AOD\n",
    "import awkward as ak\n",
    "from hist import Hist\n",
    "import mplhep as mpl"
   ]
  },
  {
   "cell_type": "code",
   "execution_count": 18,
   "metadata": {},
   "outputs": [],
   "source": [
    "data_muon = (ServiceXSourceCMSRun1AOD(\"cernopendata://1507\")\n",
    "        .Select(lambda e: {\"m\": e.Muons(\"muons\"), \"p\": e.Vertex(\"offlinePrimaryVertices\")[0].position()})\n",
    "        .Select(lambda i:\n",
    "                (\n",
    "                    i.m\n",
    "                    .Where(lambda m: m.isPFMuon()\n",
    "                           and m.isPFIsolationValid()\n",
    "                           and isNonnull(m.globalTrack())\n",
    "                           and abs(sqrt((m.globalTrack().dxy(i.p) * m.globalTrack().dxy(i.p))\n",
    "                                        + (m.globalTrack().dz(i.p) * m.globalTrack().dz(i.p)))\n",
    "                                   / sqrt((m.globalTrack().d0Error() * m.globalTrack().d0Error())\n",
    "                                          + (m.globalTrack().dzError() * m.globalTrack().dzError()))) < 4.0\n",
    "                           and abs((m.globalTrack()).dxy(i.p)) < 0.5\n",
    "                           and abs((m.globalTrack()).dz(i.p)) < 1.\n",
    "                           and ((m.pfIsolationR04()).sumChargedHadronPt\n",
    "                                + (m.pfIsolationR04()).sumNeutralHadronEt\n",
    "                                + (m.pfIsolationR04()).sumPhotonEt) / m.pt() < 0.4\n",
    "                           and m.pt() > 5.\n",
    "                           and abs(m.eta()) < 2.4\n",
    "                           )\n",
    "                    .Select(lambda m: m.p()),\n",
    "                    i.m\n",
    "                    .Where(lambda m: m.isPFMuon()\n",
    "                           and m.isPFIsolationValid()\n",
    "                           and isNonnull(m.globalTrack())\n",
    "                           and abs(sqrt((m.globalTrack().dxy(i.p) * m.globalTrack().dxy(i.p))\n",
    "                                        + (m.globalTrack().dz(i.p) * m.globalTrack().dz(i.p)))\n",
    "                                   / sqrt((m.globalTrack().d0Error() * m.globalTrack().d0Error())\n",
    "                                          + (m.globalTrack().dzError() * m.globalTrack().dzError()))) < 4.0\n",
    "                           and abs((m.globalTrack()).dxy(i.p)) < 0.5\n",
    "                           and abs((m.globalTrack()).dz(i.p)) < 1.\n",
    "                           and ((m.pfIsolationR04()).sumChargedHadronPt\n",
    "                                + (m.pfIsolationR04()).sumNeutralHadronEt\n",
    "                                + (m.pfIsolationR04()).sumPhotonEt) / m.pt() < 0.4\n",
    "                           and m.pt() > 5.\n",
    "                           and abs(m.eta()) < 2.4\n",
    "                           )\n",
    "                    .Select(lambda m: m.pt()),\n",
    "                    i.m\n",
    "                    .Where(lambda m: m.isPFMuon()\n",
    "                           and m.isPFIsolationValid()\n",
    "                           and isNonnull(m.globalTrack())\n",
    "                           and abs(sqrt((m.globalTrack().dxy(i.p) * m.globalTrack().dxy(i.p)) + (m.globalTrack().dz(i.p) * m.globalTrack().dz(i.p)))\n",
    "                                   / sqrt((m.globalTrack().d0Error() * m.globalTrack().d0Error()) + (m.globalTrack().dzError() * m.globalTrack().dzError()))) < 4.0\n",
    "                           and abs((m.globalTrack()).dxy(i.p)) < 0.5\n",
    "                           and abs((m.globalTrack()).dz(i.p)) < 1.\n",
    "                           and ((m.pfIsolationR04()).sumChargedHadronPt\n",
    "                                + (m.pfIsolationR04()).sumNeutralHadronEt\n",
    "                                + (m.pfIsolationR04()).sumPhotonEt) / m.pt() < 0.4\n",
    "                           and m.pt() > 5.\n",
    "                           and abs(m.eta()) < 2.4\n",
    "                           )\n",
    "                    .Select(lambda m: m.px()),\n",
    "                    i.m\n",
    "                    .Where(lambda m: m.isPFMuon()\n",
    "                           and m.isPFIsolationValid()\n",
    "                           and isNonnull(m.globalTrack())\n",
    "                           and abs(sqrt((m.globalTrack().dxy(i.p) * m.globalTrack().dxy(i.p)) + (m.globalTrack().dz(i.p) * m.globalTrack().dz(i.p)))\n",
    "                                   / sqrt((m.globalTrack().d0Error() * m.globalTrack().d0Error()) + (m.globalTrack().dzError() * m.globalTrack().dzError()))) < 4.0\n",
    "                           and abs((m.globalTrack()).dxy(i.p)) < 0.5\n",
    "                           and abs((m.globalTrack()).dz(i.p)) < 1.\n",
    "                           and ((m.pfIsolationR04()).sumChargedHadronPt\n",
    "                                + (m.pfIsolationR04()).sumNeutralHadronEt\n",
    "                                + (m.pfIsolationR04()).sumPhotonEt) / m.pt() < 0.4\n",
    "                           and m.pt() > 5.\n",
    "                           and abs(m.eta()) < 2.4\n",
    "                           )\n",
    "                    .Select(lambda m: m.py()),\n",
    "                    i.m\n",
    "                    .Where(lambda m: m.isPFMuon()\n",
    "                           and m.isPFIsolationValid()\n",
    "                           and isNonnull(m.globalTrack())\n",
    "                           and abs(sqrt((m.globalTrack().dxy(i.p) * m.globalTrack().dxy(i.p)) + (m.globalTrack().dz(i.p) * m.globalTrack().dz(i.p)))\n",
    "                                   / sqrt((m.globalTrack().d0Error() * m.globalTrack().d0Error()) + (m.globalTrack().dzError() * m.globalTrack().dzError()))) < 4.0\n",
    "                           and abs((m.globalTrack()).dxy(i.p)) < 0.5\n",
    "                           and abs((m.globalTrack()).dz(i.p)) < 1.\n",
    "                           and ((m.pfIsolationR04()).sumChargedHadronPt\n",
    "                                + (m.pfIsolationR04()).sumNeutralHadronEt\n",
    "                                + (m.pfIsolationR04()).sumPhotonEt) / m.pt() < 0.4\n",
    "                           and m.pt() > 5.\n",
    "                           and abs(m.eta()) < 2.4\n",
    "                           )\n",
    "                    .Select(lambda m: m.pz()),\n",
    "                    i.m\n",
    "                    .Where(lambda m: m.isPFMuon()\n",
    "                           and m.isPFIsolationValid()\n",
    "                           and isNonnull(m.globalTrack())\n",
    "                           and abs(sqrt((m.globalTrack().dxy(i.p) * m.globalTrack().dxy(i.p)) + (m.globalTrack().dz(i.p) * m.globalTrack().dz(i.p)))\n",
    "                                   / sqrt((m.globalTrack().d0Error() * m.globalTrack().d0Error()) + (m.globalTrack().dzError() * m.globalTrack().dzError()))) < 4.0\n",
    "                           and abs((m.globalTrack()).dxy(i.p)) < 0.5\n",
    "                           and abs((m.globalTrack()).dz(i.p)) < 1.\n",
    "                           and ((m.pfIsolationR04()).sumChargedHadronPt\n",
    "                                + (m.pfIsolationR04()).sumNeutralHadronEt\n",
    "                                + (m.pfIsolationR04()).sumPhotonEt) / m.pt() < 0.4\n",
    "                           and m.pt() > 5.\n",
    "                           and abs(m.eta()) < 2.4\n",
    "                           )\n",
    "                    .Select(lambda m: m.charge())\n",
    "                )\n",
    "                )\n",
    "        .AsAwkwardArray(['mu_p', 'mu_pt', 'mu_px', 'mu_py', 'mu_pz', 'mu_charge'])).value()"
   ]
  },
  {
   "cell_type": "code",
   "execution_count": 19,
   "metadata": {},
   "outputs": [
    {
     "data": {
      "image/png": "[encoded data removed]",
      "text/plain": [
       "<Figure size 432x288 with 1 Axes>"
      ]
     },
     "metadata": {
      "needs_background": "light"
     },
     "output_type": "display_data"
    }
   ],
   "source": [
    "h = (Hist.new\n",
    "     .Reg(50, 0, 200, name='mu_pt', label='Muon $p_T$')\n",
    "     .Int64()\n",
    "     )\n",
    "h.fill(ak.flatten(data_muon['mu_pt']))\n",
    "_ = h.plot()"
   ]
  },
  {
   "cell_type": "code",
   "execution_count": 20,
   "metadata": {},
   "outputs": [
    {
     "name": "stdout",
     "output_type": "stream",
     "text": [
      "[[], [18.9, 24.2], [], [49.5, 40.9], ... [96.6, 189, 22.6], [60.9, 47.5, 25, 23.2]]\n"
     ]
    }
   ],
   "source": [
    "print(data_muon['mu_p'])"
   ]
  },
  {
   "cell_type": "code",
   "execution_count": 21,
   "metadata": {},
   "outputs": [
    {
     "data": {
      "application/vnd.jupyter.widget-view+json": {
       "model_id": "",
       "version_major": 2,
       "version_minor": 0
      },
      "text/plain": [
       "cernopendata://1507:   0%|          | 0/9000000000.0 [00:00]"
      ]
     },
     "metadata": {},
     "output_type": "display_data"
    },
    {
     "data": {
      "application/vnd.jupyter.widget-view+json": {
       "model_id": "",
       "version_major": 2,
       "version_minor": 0
      },
      "text/plain": [
       "        Downloaded:   0%|          | 0/9000000000.0 [00:00]"
      ]
     },
     "metadata": {},
     "output_type": "display_data"
    }
   ],
   "source": [
    "data_electron = (ServiceXSourceCMSRun1AOD(\"cernopendata://1507\") \n",
    "        .Select(lambda e: {\"m\": e.GsfElectrons(\"gsfElectrons\"), \"p\": e.Vertex(\"offlinePrimaryVertices\")[0].position()})\n",
    "        .Select(lambda i:\n",
    "                (\n",
    "                    i.m\n",
    "                    .Where(lambda e: e.passingPflowPreselection()\n",
    "                           and e.pt() > 7.\n",
    "                           and abs(e.superCluster().eta()) < 2.5\n",
    "                           and e.gsfTrack().trackerExpectedHitsInner().numberOfHits() <= 1\n",
    "                           and abs(sqrt((e.gsfTrack().dxy(i.p) * e.gsfTrack().dxy(i.p))\n",
    "                                        + (e.gsfTrack().dz(i.p) * e.gsfTrack().dz(i.p)))\n",
    "                                   / sqrt((e.gsfTrack().d0Error() * e.gsfTrack().d0Error())\n",
    "                                          + (e.gsfTrack().dzError() * e.gsfTrack().dzError()))) < 4.\n",
    "                           and abs(e.gsfTrack().dxy(i.p)) < 0.5 and abs(e.gsfTrack().dz(i.p)) < 1.\n",
    "                           and (e.isEB() or e.isEE())\n",
    "                           and (e.pfIsolationVariables().chargedHadronIso\n",
    "                                + e.pfIsolationVariables().neutralHadronIso\n",
    "                                + e.pfIsolationVariables().photonIso) / e.pt() < 0.4\n",
    "                           )\n",
    "                    .Select(lambda e: e.p()),\n",
    "                    i.m\n",
    "                    .Where(lambda e: e.passingPflowPreselection()\n",
    "                           and e.pt() > 7.\n",
    "                           and abs(e.superCluster().eta()) < 2.5\n",
    "                           and e.gsfTrack().trackerExpectedHitsInner().numberOfHits() <= 1\n",
    "                           and abs(sqrt((e.gsfTrack().dxy(i.p) * e.gsfTrack().dxy(i.p))\n",
    "                                        + (e.gsfTrack().dz(i.p) * e.gsfTrack().dz(i.p)))\n",
    "                                   / sqrt((e.gsfTrack().d0Error() * e.gsfTrack().d0Error())\n",
    "                                          + (e.gsfTrack().dzError() * e.gsfTrack().dzError()))) < 4.\n",
    "                           and abs(e.gsfTrack().dxy(i.p)) < 0.5 and abs(e.gsfTrack().dz(i.p)) < 1.\n",
    "                           and (e.isEB() or e.isEE())\n",
    "                           and (e.pfIsolationVariables().chargedHadronIso\n",
    "                                + e.pfIsolationVariables().neutralHadronIso\n",
    "                                + e.pfIsolationVariables().photonIso) / e.pt() < 0.4\n",
    "                           )\n",
    "                    .Select(lambda e: e.pt()),\n",
    "                    i.m\n",
    "                    .Where(lambda e: e.passingPflowPreselection()\n",
    "                           and e.pt() > 7.\n",
    "                           and abs(e.superCluster().eta()) < 2.5\n",
    "                           and e.gsfTrack().trackerExpectedHitsInner().numberOfHits() <= 1\n",
    "                           and abs(sqrt((e.gsfTrack().dxy(i.p) * e.gsfTrack().dxy(i.p))\n",
    "                                        + (e.gsfTrack().dz(i.p) * e.gsfTrack().dz(i.p)))\n",
    "                                   / sqrt((e.gsfTrack().d0Error() * e.gsfTrack().d0Error())\n",
    "                                          + (e.gsfTrack().dzError() * e.gsfTrack().dzError()))) < 4.\n",
    "                           and abs(e.gsfTrack().dxy(i.p)) < 0.5 and abs(e.gsfTrack().dz(i.p)) < 1.\n",
    "                           and (e.isEB() or e.isEE())\n",
    "                           and (e.pfIsolationVariables().chargedHadronIso\n",
    "                                + e.pfIsolationVariables().neutralHadronIso\n",
    "                                + e.pfIsolationVariables().photonIso) / e.pt() < 0.4\n",
    "                           )\n",
    "                    .Select(lambda e: e.px()),\n",
    "                    i.m\n",
    "                    .Where(lambda e: e.passingPflowPreselection()\n",
    "                           and e.pt() > 7.\n",
    "                           and abs(e.superCluster().eta()) < 2.5\n",
    "                           and e.gsfTrack().trackerExpectedHitsInner().numberOfHits() <= 1\n",
    "                           and abs(sqrt((e.gsfTrack().dxy(i.p) * e.gsfTrack().dxy(i.p))\n",
    "                                        + (e.gsfTrack().dz(i.p) * e.gsfTrack().dz(i.p)))\n",
    "                                   / sqrt((e.gsfTrack().d0Error() * e.gsfTrack().d0Error())\n",
    "                                          + (e.gsfTrack().dzError() * e.gsfTrack().dzError()))) < 4.\n",
    "                           and abs(e.gsfTrack().dxy(i.p)) < 0.5 and abs(e.gsfTrack().dz(i.p)) < 1.\n",
    "                           and (e.isEB() or e.isEE())\n",
    "                           and (e.pfIsolationVariables().chargedHadronIso\n",
    "                                + e.pfIsolationVariables().neutralHadronIso\n",
    "                                + e.pfIsolationVariables().photonIso) / e.pt() < 0.4\n",
    "                           )\n",
    "                    .Select(lambda e: e.py()),\n",
    "                    i.m\n",
    "                    .Where(lambda e: e.passingPflowPreselection()\n",
    "                           and e.pt() > 7.\n",
    "                           and abs(e.superCluster().eta()) < 2.5\n",
    "                           and e.gsfTrack().trackerExpectedHitsInner().numberOfHits() <= 1\n",
    "                           and abs(sqrt((e.gsfTrack().dxy(i.p) * e.gsfTrack().dxy(i.p))\n",
    "                                        + (e.gsfTrack().dz(i.p) * e.gsfTrack().dz(i.p)))\n",
    "                                   / sqrt((e.gsfTrack().d0Error() * e.gsfTrack().d0Error())\n",
    "                                          + (e.gsfTrack().dzError() * e.gsfTrack().dzError()))) < 4.\n",
    "                           and abs(e.gsfTrack().dxy(i.p)) < 0.5 and abs(e.gsfTrack().dz(i.p)) < 1.\n",
    "                           and (e.isEB() or e.isEE())\n",
    "                           and (e.pfIsolationVariables().chargedHadronIso\n",
    "                                + e.pfIsolationVariables().neutralHadronIso\n",
    "                                + e.pfIsolationVariables().photonIso) / e.pt() < 0.4\n",
    "                           )\n",
    "                    .Select(lambda e: e.pz()),\n",
    "                    i.m\n",
    "                    .Where(lambda e: e.passingPflowPreselection()\n",
    "                           and e.pt() > 7.\n",
    "                           and abs(e.superCluster().eta()) < 2.5\n",
    "                           and e.gsfTrack().trackerExpectedHitsInner().numberOfHits() <= 1\n",
    "                           and abs(sqrt((e.gsfTrack().dxy(i.p) * e.gsfTrack().dxy(i.p))\n",
    "                                        + (e.gsfTrack().dz(i.p) * e.gsfTrack().dz(i.p)))\n",
    "                                   / sqrt((e.gsfTrack().d0Error() * e.gsfTrack().d0Error())\n",
    "                                          + (e.gsfTrack().dzError() * e.gsfTrack().dzError()))) < 4.\n",
    "                           and abs(e.gsfTrack().dxy(i.p)) < 0.5 and abs(e.gsfTrack().dz(i.p)) < 1.\n",
    "                           and (e.isEB() or e.isEE())\n",
    "                           and (e.pfIsolationVariables().chargedHadronIso\n",
    "                                + e.pfIsolationVariables().neutralHadronIso\n",
    "                                + e.pfIsolationVariables().photonIso) / e.pt() < 0.4\n",
    "                           )\n",
    "                    .Select(lambda e: e.charge()),\n",
    "                )\n",
    "                )\n",
    "        .AsAwkwardArray(['el_p', 'el_pt', 'el_px', 'el_py', 'el_pz', 'el_charge']).value())"
   ]
  },
  {
   "cell_type": "code",
   "execution_count": 22,
   "metadata": {},
   "outputs": [
    {
     "data": {
      "image/png": "[encoded data removed]",
      "text/plain": [
       "<Figure size 432x288 with 1 Axes>"
      ]
     },
     "metadata": {
      "needs_background": "light"
     },
     "output_type": "display_data"
    }
   ],
   "source": [
    "h = (Hist.new\n",
    "     .Reg(50, 0, 200, name='el_pt', label='GsfElectron $p_T$')\n",
    "     .Int64()\n",
    "     )\n",
    "h.fill(ak.flatten(data_electron['el_pt']))\n",
    "_ = h.plot()"
   ]
  },
  {
   "cell_type": "code",
   "execution_count": null,
   "metadata": {},
   "outputs": [],
   "source": []
  }
 ],
 "metadata": {
  "kernelspec": {
   "display_name": "Python 3",
   "language": "python",
   "name": "python3"
  },
  "language_info": {
   "codemirror_mode": {
    "name": "ipython",
    "version": 3
   },
   "file_extension": ".py",
   "mimetype": "text/x-python",
   "name": "python",
   "nbconvert_exporter": "python",
   "pygments_lexer": "ipython3",
   "version": "3.8.5"
  }
 },
 "nbformat": 4,
 "nbformat_minor": 2
}
