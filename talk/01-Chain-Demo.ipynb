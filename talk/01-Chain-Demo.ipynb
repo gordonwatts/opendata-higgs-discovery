{
 "cells": [
  {
   "cell_type": "markdown",
   "id": "8217b3fb-69e1-4d49-93fd-61ce8ba34023",
   "metadata": {},
   "source": [
    "# Introduction\n",
    "\n",
    "Lets load our environment first"
   ]
  },
  {
   "cell_type": "code",
   "execution_count": 1,
   "id": "e1e6f9fc-fc3f-4894-90bb-b8b513818232",
   "metadata": {},
   "outputs": [],
   "source": [
    "from func_adl_servicex import ServiceXSourceUpROOT, ServiceXSourceCMSRun1AOD\n",
    "from hist import Hist\n",
    "import awkward as ak"
   ]
  },
  {
   "cell_type": "markdown",
   "id": "308f8d25-7d7c-4b5e-83c7-db2a95fd9e34",
   "metadata": {},
   "source": [
    "## Flat ROOT Files\n",
    "\n",
    "ATLAS has distributed it's open data as flat ROOT files.\n",
    "\n",
    "* On CERNOpenData they are a single zip file\n",
    "* But they have been distributed as files availible via EOS from CERN Open Data's EOS instance."
   ]
  },
  {
   "cell_type": "code",
   "execution_count": 2,
   "id": "e9cc9e5e-eae9-444e-b794-71cf53bef982",
   "metadata": {},
   "outputs": [],
   "source": [
    "ggH125_ZZ4lep = 'root://eospublic.cern.ch//eos/opendata/atlas/OutreachDatasets/2020-01-22/4lep/MC/mc_345060.ggH125_ZZ4lep.4lep.root'\n",
    "ggH125_ZZ4lep_source = ServiceXSourceUpROOT([ggH125_ZZ4lep], 'mini', backend='open_uproot')"
   ]
  },
  {
   "cell_type": "markdown",
   "id": "8032e4ea-6623-4da3-9460-73143ddf6dbd",
   "metadata": {},
   "source": [
    "* We use the `root://` address instead of `http://` due to efficiency and caching.\n",
    "* `mini` is the tree name in the file\n",
    "* `backend` basically describes the type of file - this is a flat root file that can be opened by the `uproot` python package.\n",
    "\n",
    "Now that we have a reference to the datasource, lets pick out a single column and bring its contents back to our local instance:"
   ]
  },
  {
   "cell_type": "code",
   "execution_count": 3,
   "id": "6b8fab5d-7219-4e11-be99-766ffaf23d62",
   "metadata": {},
   "outputs": [
    {
     "data": {
      "text/plain": [
       "<Array [{lep_pt: [5.19e+04, ... 1.11e+04]}] type='164716 * {\"lep_pt\": var * floa...'>"
      ]
     },
     "execution_count": 3,
     "metadata": {},
     "output_type": "execute_result"
    }
   ],
   "source": [
    "r = (ggH125_ZZ4lep_source\n",
    "     .Select(lambda e: {'lep_pt': e['lep_pt']})\n",
    "     .AsAwkwardArray()\n",
    "     .value()\n",
    "    )\n",
    "r"
   ]
  },
  {
   "cell_type": "markdown",
   "id": "8d90e75b-500c-4d2d-a11c-a06d43636c56",
   "metadata": {},
   "source": [
    "This is a standard awkward array - and it's shape is simply a series of lepton $p_T$'s for each of the 164716 events:"
   ]
  },
  {
   "cell_type": "code",
   "execution_count": 4,
   "id": "3d4a1802-422d-4f27-abaa-3fddfbe144eb",
   "metadata": {},
   "outputs": [
    {
     "data": {
      "text/plain": [
       "164716 * {\"lep_pt\": var * float32}"
      ]
     },
     "execution_count": 4,
     "metadata": {},
     "output_type": "execute_result"
    }
   ],
   "source": [
    "r.type"
   ]
  },
  {
   "cell_type": "markdown",
   "id": "5bb4b71f-641a-45ea-818e-9501f21c9bd3",
   "metadata": {},
   "source": [
    "Lets plot this. We'll use the `Hist` library, which is a nice wrapper around the `boost_histogram` library:\n",
    "* Note we have a single axis, which is the muon's $p_T$"
   ]
  },
  {
   "cell_type": "code",
   "execution_count": 5,
   "id": "52a21fd7-7fcf-42e3-8580-8a2feece3260",
   "metadata": {},
   "outputs": [
    {
     "data": {
      "image/png": "[encoded data removed]",
      "text/plain": [
       "<Figure size 432x288 with 1 Axes>"
      ]
     },
     "metadata": {
      "needs_background": "light"
     },
     "output_type": "display_data"
    }
   ],
   "source": [
    "h = (Hist.new\n",
    "     .Reg(50, 0, 200, name='mu_pt', label='Muon Track $p_T$ [GeV]')\n",
    "     .Int64()\n",
    "     )\n",
    "h.fill(ak.flatten(r['lep_pt'])/1000.0)\n",
    "_ = h.plot()"
   ]
  },
  {
   "cell_type": "markdown",
   "id": "7ae834cf-be13-4df3-9aaa-a93a6952bf0a",
   "metadata": {},
   "source": [
    "Lets get back a $p_T$ and an $\\eta$ for the leptons now. This requires two things coming back:"
   ]
  },
  {
   "cell_type": "code",
   "execution_count": 6,
   "id": "310fc566-e2d8-47c7-8624-9b88699ba1ec",
   "metadata": {},
   "outputs": [
    {
     "data": {
      "text/plain": [
       "164716 * {\"lep_pt\": var * float32, \"lep_eta\": var * float32}"
      ]
     },
     "execution_count": 6,
     "metadata": {},
     "output_type": "execute_result"
    }
   ],
   "source": [
    "r = (ggH125_ZZ4lep_source\n",
    "     .Select(lambda e: {'lep_pt': e['lep_pt'], 'lep_eta': e['lep_eta']})\n",
    "     .AsAwkwardArray()\n",
    "     .value()\n",
    "    )\n",
    "r.type"
   ]
  },
  {
   "cell_type": "markdown",
   "id": "a23950ec-2a20-40f1-a544-e1ec2a26bfca",
   "metadata": {},
   "source": [
    "Note that it is columnar data:\n",
    "\n",
    "* Each event contains two arrays\n",
    "* The arrays are lepton pt and eta - not a tuple of lepton ($p_T$, $\\eta$).\n",
    "\n",
    "What if we want to cut on the eta? How do we relate these two columns? We use the zip function."
   ]
  },
  {
   "cell_type": "code",
   "execution_count": 7,
   "id": "7fe8b1e1-28ce-4c28-a1af-61e27d90a7ad",
   "metadata": {},
   "outputs": [
    {
     "data": {
      "text/plain": [
       "164716 * {\"lep_pt\": var * float32, \"lep_eta\": var * float32}"
      ]
     },
     "execution_count": 7,
     "metadata": {},
     "output_type": "execute_result"
    }
   ],
   "source": [
    "r_cut = (ggH125_ZZ4lep_source\n",
    "         .Select(lambda e: Zip({'pt': e['lep_pt'], 'eta': e['lep_eta']}))\n",
    "         .Select(lambda leps: leps.Where(lambda l: abs(l.eta) < 1.0))\n",
    "         .AsAwkwardArray()\n",
    "         .value()\n",
    "        )\n",
    "r.type"
   ]
  },
  {
   "cell_type": "markdown",
   "id": "edac1f1b-5809-4c36-b304-2b9698842f7a",
   "metadata": {},
   "source": [
    "Interesting - same number of events - but we cut? Lets look at a histogram:"
   ]
  },
  {
   "cell_type": "code",
   "execution_count": 8,
   "id": "a648552b-6b86-4fd2-b47e-1868c64f254a",
   "metadata": {},
   "outputs": [
    {
     "data": {
      "image/png": "[encoded data removed]",
      "text/plain": [
       "<Figure size 432x288 with 1 Axes>"
      ]
     },
     "metadata": {
      "needs_background": "light"
     },
     "output_type": "display_data"
    }
   ],
   "source": [
    "h = (Hist.new\n",
    "     .Reg(50, 0, 200, name='mu_pt', label='Muon Track $p_T$ [GeV]')\n",
    "     .StrCat([], name='cut', label='Cut Type', growth=True)\n",
    "     .Int64()\n",
    "     )\n",
    "h.fill(mu_pt=ak.flatten(r['lep_pt'])/1000.0, cut='All')\n",
    "h.fill(mu_pt=ak.flatten(r_cut['pt'])/1000.0, cut='eta')\n",
    "h.plot();"
   ]
  },
  {
   "cell_type": "code",
   "execution_count": 9,
   "id": "745caebc-eadd-4453-905a-1dbf65b4d3b1",
   "metadata": {},
   "outputs": [
    {
     "data": {
      "image/png": "[encoded data removed]",
      "text/plain": [
       "<Figure size 432x288 with 1 Axes>"
      ]
     },
     "metadata": {
      "needs_background": "light"
     },
     "output_type": "display_data"
    }
   ],
   "source": [
    "h = (Hist.new\n",
    "     .Reg(8, 0, 8, name='muon_count', label='Number of Muons')\n",
    "     .StrCat([], name='cut', label='Cut Type', growth=True)\n",
    "     .Int64()\n",
    "     )\n",
    "h.fill(muon_count=ak.count(r['lep_pt'], axis=-1), cut='All')\n",
    "h.fill(muon_count=ak.count(r_cut['pt'], axis=-1), cut='eta')\n",
    "h.plot();"
   ]
  },
  {
   "cell_type": "markdown",
   "id": "85c78322-e364-4a4c-a6ea-27e4d167c751",
   "metadata": {},
   "source": [
    "* We cut the number of leptons per event\n",
    "* We now have some events with zero leptons - but those events were still returned\n",
    "* We could remove them by doing a cut on the number of leptons..."
   ]
  },
  {
   "cell_type": "markdown",
   "id": "fb7268fe-e6d7-420b-ad0c-1c6315664e85",
   "metadata": {},
   "source": [
    "## CMS Run 1 AOD Files\n",
    "\n",
    "Differences between FLAT ROOT files and CMS RUN 1 AOD Files:\n",
    "\n",
    "* You must use an (old) version of CMSSW, a big software framework, to read these files!!\n",
    "* Data in these files is stored event or row-wise: electrons, and then the $p_T$ and $\\eta$ of each electron.\n",
    "* These are stored at a top level in the CERN Open Data, so ServiceX can just grab them directly\n",
    "* Some datasets are ~7 TB!! It takes about 30 minutes to run on those: we will be using a cache from an earlier run.\n",
    "\n",
    "Start with a 60GB SM [Higgs dataset](http://opendata.cern.ch/record/1507) ($H \\rightarrow ZZ \\rightarrow \\ell \\ell \\ell \\ell$). In CERN OpenData's catalog, this is record 1507 (pulled straight from the URL: http://opendata.cern.ch/record/1507)."
   ]
  },
  {
   "cell_type": "code",
   "execution_count": 10,
   "id": "0465d7c5-c195-427f-b23a-a6384a06dcb8",
   "metadata": {},
   "outputs": [],
   "source": [
    "hzz_4l_source = ServiceXSourceCMSRun1AOD('cernopendata://1507', backend='cms_run1_aod')"
   ]
  },
  {
   "cell_type": "code",
   "execution_count": 11,
   "id": "d0bcd0f5-eef7-45be-8266-6af393d5825d",
   "metadata": {},
   "outputs": [
    {
     "data": {
      "text/plain": [
       "299683 * {\"mu_pt\": var * float64}"
      ]
     },
     "execution_count": 11,
     "metadata": {},
     "output_type": "execute_result"
    }
   ],
   "source": [
    "r = (hzz_4l_source \\\n",
    "     .Select(lambda e: e.TrackMuons(\"globalMuons\"))\n",
    "     .Select(lambda muons: muons.Select(lambda m: m.pt()))\n",
    "     .AsAwkwardArray(['mu_pt']) \\\n",
    "     .value()\n",
    "    )\n",
    "r.type"
   ]
  },
  {
   "cell_type": "code",
   "execution_count": 12,
   "id": "cfa832e4-34d8-4dff-bc60-976d8123d4dc",
   "metadata": {},
   "outputs": [
    {
     "data": {
      "text/plain": [
       "299683 * {\"mu_pt\": var * float64}"
      ]
     },
     "execution_count": 12,
     "metadata": {},
     "output_type": "execute_result"
    }
   ],
   "source": [
    "r_cut = (hzz_4l_source \\\n",
    "         .Select(lambda e: e.TrackMuons(\"globalMuons\"))\n",
    "         .Select(lambda muons: muons.Where(lambda m: abs(m.eta()) < 1.0))\n",
    "         .Select(lambda muons: muons.Select(lambda m: m.pt()))\n",
    "         .AsAwkwardArray(['mu_pt']) \\\n",
    "         .value()\n",
    "    )\n",
    "r.type"
   ]
  },
  {
   "cell_type": "code",
   "execution_count": 13,
   "id": "f86f18d6-db9a-4957-8fb8-67a78757f278",
   "metadata": {},
   "outputs": [
    {
     "data": {
      "image/png": "[encoded data removed]",
      "text/plain": [
       "<Figure size 432x288 with 1 Axes>"
      ]
     },
     "metadata": {
      "needs_background": "light"
     },
     "output_type": "display_data"
    }
   ],
   "source": [
    "h = (Hist.new\n",
    "     .Reg(8, 0, 8, name='muon_count', label='Number of Muons')\n",
    "     .StrCat([], name='cut', label='Cut Type', growth=True)\n",
    "     .Int64()\n",
    "     )\n",
    "h.fill(muon_count=ak.count(r['mu_pt'], axis=-1), cut='All')\n",
    "h.fill(muon_count=ak.count(r_cut['mu_pt'], axis=-1), cut='eta')\n",
    "h.plot();"
   ]
  },
  {
   "cell_type": "markdown",
   "id": "c4fc428a-80e3-4c21-b3e2-ea5b9ade906f",
   "metadata": {},
   "source": [
    "Again, a very similar behavior here!\n",
    "\n",
    "* Note that CMS muons are **all** muons, so a lot more quality cuts must be done to compare them with ATLAS's muons.\n",
    "* ATLAS's AOD files were skimmed down to make those datasets for the educational purposes: so a lot of the skimming is done early for those files."
   ]
  },
  {
   "cell_type": "code",
   "execution_count": null,
   "id": "3bd01605-3a4b-4cda-afc4-aa34980e9344",
   "metadata": {},
   "outputs": [],
   "source": []
  }
 ],
 "metadata": {
  "kernelspec": {
   "display_name": "Python 3 (ipykernel)",
   "language": "python",
   "name": "python3"
  },
  "language_info": {
   "codemirror_mode": {
    "name": "ipython",
    "version": 3
   },
   "file_extension": ".py",
   "mimetype": "text/x-python",
   "name": "python",
   "nbconvert_exporter": "python",
   "pygments_lexer": "ipython3",
   "version": "3.9.6"
  }
 },
 "nbformat": 4,
 "nbformat_minor": 5
}
