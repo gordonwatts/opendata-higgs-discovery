{
 "cells": [
  {
   "cell_type": "markdown",
   "id": "4dc22f81-737d-4187-860a-68b11b744fb5",
   "metadata": {},
   "source": [
    "# CMS $H \\rightarrow ZZ \\rightarrow \\ell \\ell \\ell \\ell$ Public Outreach Example\n",
    "\n",
    "CMS has released its higgs discovery dataset as public data. The structure of this is very similar to the ATLAS example, with some important differences:\n",
    "\n",
    "* CMS data is not a flat ROOT tuple, but a CMS Run 1 AOD.\n",
    "\n",
    "Outline\n",
    "\n",
    "1. Use `ServiceX` for general quality and object selection\n",
    "1. Use `coffea` and `awkward` to do multi-object event wide selection and plots\n",
    "1. Produce the plot for running on a single MC file\n",
    "1. Run on all the MC and Data files"
   ]
  },
  {
   "cell_type": "code",
   "execution_count": 1,
   "id": "a9a6ee3a-86cf-4f51-abe1-2254f36cb1c2",
   "metadata": {},
   "outputs": [],
   "source": [
    "from func_adl_servicex import ServiceXSourceCMSRun1AOD\n",
    "from servicex.servicex import ServiceXDataset\n",
    "from coffea.processor.servicex import Analysis, DataSource, LocalExecutor\n",
    "from func_adl import ObjectStream\n",
    "from hist import Hist\n",
    "\n",
    "import asyncio\n",
    "from typing import List"
   ]
  },
  {
   "cell_type": "markdown",
   "id": "016886c0-a77e-4c98-b687-987703db4e6a",
   "metadata": {},
   "source": [
    "## Defining the base query\n",
    "\n",
    "* We are using the CMS Run 1 AOD file type here\n",
    "* No global event cuts"
   ]
  },
  {
   "cell_type": "code",
   "execution_count": 2,
   "id": "8bda4e26-5e39-406e-93f1-33046e7c330e",
   "metadata": {},
   "outputs": [],
   "source": [
    "ds = ServiceXSourceCMSRun1AOD('cernopendata://dummy')\n",
    "ds.return_qastle = True  # Magic"
   ]
  },
  {
   "cell_type": "code",
   "execution_count": 3,
   "id": "82448bc0-e02e-419a-93ab-d4ae42cf9613",
   "metadata": {},
   "outputs": [],
   "source": [
    "## Selecting Clean Objects"
   ]
  },
  {
   "cell_type": "code",
   "execution_count": 4,
   "id": "d6aa0dd6-8e60-417b-b319-d379942f2266",
   "metadata": {},
   "outputs": [],
   "source": [
    "leptons_source = (\n",
    "    ds\n",
    "    .Select(lambda e: {\n",
    "        \"m\": e.Muons(\"muons\"),\n",
    "        \"e\": e.GsfElectrons(\"gsfElectrons\"), \n",
    "        \"p\": e.Vertex(\"offlinePrimaryVertices\")[0].position()\n",
    "    })\n",
    ")"
   ]
  },
  {
   "cell_type": "code",
   "execution_count": 5,
   "id": "ad79f719-0a22-4d46-b302-d1b9194e2eb8",
   "metadata": {},
   "outputs": [],
   "source": [
    "data_leptons = (\n",
    "     leptons_source\n",
    "     .Select(lambda i: {\n",
    "          \"m\": i.m\n",
    "               .Where(lambda m: m.isPFMuon()\n",
    "                         and m.isPFIsolationValid()\n",
    "                         and isNonnull(m.globalTrack())\n",
    "                         and abs(sqrt((m.globalTrack().dxy(i.p) * m.globalTrack().dxy(i.p))\n",
    "                                   + (m.globalTrack().dz(i.p) * m.globalTrack().dz(i.p)))\n",
    "                              / sqrt((m.globalTrack().d0Error() * m.globalTrack().d0Error())\n",
    "                                        + (m.globalTrack().dzError() * m.globalTrack().dzError()))) < 4.0\n",
    "                         and abs((m.globalTrack()).dxy(i.p)) < 0.5\n",
    "                         and abs((m.globalTrack()).dz(i.p)) < 1.\n",
    "                         and ((m.pfIsolationR04()).sumChargedHadronPt\n",
    "                              + (m.pfIsolationR04()).sumNeutralHadronEt\n",
    "                              + (m.pfIsolationR04()).sumPhotonEt) / m.pt() < 0.4\n",
    "                         and m.pt() > 5.\n",
    "                         and abs(m.eta()) < 2.4\n",
    "               ),\n",
    "          \"e\": i.e\n",
    "               .Where(lambda e: e.passingPflowPreselection()\n",
    "                         and e.pt() > 7.\n",
    "                         and abs(e.superCluster().eta()) < 2.5\n",
    "                         and e.gsfTrack().trackerExpectedHitsInner().numberOfHits() <= 1\n",
    "                         and abs(sqrt((e.gsfTrack().dxy(i.p) * e.gsfTrack().dxy(i.p))\n",
    "                                   + (e.gsfTrack().dz(i.p) * e.gsfTrack().dz(i.p)))\n",
    "                              / sqrt((e.gsfTrack().d0Error() * e.gsfTrack().d0Error())\n",
    "                                        + (e.gsfTrack().dzError() * e.gsfTrack().dzError()))) < 4.\n",
    "                         and abs(e.gsfTrack().dxy(i.p)) < 0.5 and abs(e.gsfTrack().dz(i.p)) < 1.\n",
    "                         and (e.isEB() or e.isEE())\n",
    "                         and (e.pfIsolationVariables().chargedHadronIso\n",
    "                              + e.pfIsolationVariables().neutralHadronIso\n",
    "                              + e.pfIsolationVariables().photonIso) / e.pt() < 0.4\n",
    "                         )\n",
    "     })\n",
    ")"
   ]
  },
  {
   "cell_type": "markdown",
   "id": "2e53cfbb-602f-400e-9144-5bef2572b5e1",
   "metadata": {},
   "source": [
    "And pull out the columns we need for selection in the code"
   ]
  },
  {
   "cell_type": "code",
   "execution_count": 6,
   "id": "5a88be73-be15-440a-bfc5-d4cc3a80ed7c",
   "metadata": {},
   "outputs": [],
   "source": [
    "cms_selection = (\n",
    "    data_leptons\n",
    "    .Select(lambda i: (\n",
    "        i.m.Select(lambda m: m.pt()),\n",
    "        i.m.Select(lambda m: m.phi()),\n",
    "        i.m.Select(lambda m: m.eta()),\n",
    "        i.m.Select(lambda m: m.energy()),\n",
    "        i.m.Select(lambda m: m.charge()),\n",
    "        i.e.Select(lambda m: m.pt()),\n",
    "        i.e.Select(lambda m: m.phi()),\n",
    "        i.e.Select(lambda m: m.eta()),\n",
    "        i.e.Select(lambda m: m.energy()),\n",
    "        i.e.Select(lambda m: m.charge()),\n",
    "    ))\n",
    "    .AsROOTTTree('file.root', 'treeme', columns = [\n",
    "        'mu_pt', 'mu_phi', 'mu_eta', 'mu_energy', 'mu_charge',\n",
    "        'el_pt', 'el_phi', 'el_eta', 'el_energy', 'el_charge',\n",
    "    ])\n",
    ")"
   ]
  },
  {
   "cell_type": "markdown",
   "id": "89df477b-c580-4f87-93a7-de7d7083f378",
   "metadata": {},
   "source": [
    "## Performing the Analysis\n",
    "\n",
    "We are re-using, almost line-for-line, the work of an IRIS-HEP 2021 fellow, Brian Cruz, there. He developed a notebook that run on nano-aod's, and then converted the "
   ]
  },
  {
   "cell_type": "code",
   "execution_count": 7,
   "id": "5ad1ffdf-1b4d-4c80-a661-fd495512b1f6",
   "metadata": {},
   "outputs": [],
   "source": [
    "class CMS_Higgs_4L(Analysis):\n",
    "    '''Run the 4 Lepton analysis on CMS open data Run 1 AOD's\n",
    "    '''\n",
    "    @staticmethod\n",
    "    def process(events):\n",
    "        from collections import defaultdict\n",
    "        import awkward as ak\n",
    "        import numpy as np\n",
    "        import numpy as np\n",
    "\n",
    "        import awkward as ak\n",
    "\n",
    "        sumw = defaultdict(float)\n",
    "        mass_hist = (Hist.new\n",
    "                     .Reg(60, 60, 180, name='mass', label='$m_{4\\ell}$ [GeV]')\n",
    "                     .StrCat([], name='dataset', label='Cut Type', growth=True)\n",
    "                     .StrCat([], name='channel', label='Channel', growth=True)\n",
    "                     .Int64()\n",
    "                    )\n",
    "\n",
    "        dataset = events.metadata['dataset']\n",
    "        \n",
    "        good_mu = events.mu\n",
    "        good_e = events.el\n",
    "\n",
    "        # This code is copied directly from Brian Cruz's CMS Notebook that\n",
    "        # uses the converted nano-aod's\n",
    "        \n",
    "        # function that finds the best combination of pairs with a mass closest to the real Z mass\n",
    "        mZ = 91.1876\n",
    "        def closest(pair):\n",
    "            delta = abs(mZ - pair.mass[:])\n",
    "            closest_masses = np.min(delta, axis=-1)\n",
    "            the_closest = (delta == closest_masses)\n",
    "            return the_closest\n",
    "        \n",
    "        ### Higgs to 4 muons ###\n",
    "        \n",
    "        # entries with 4 muons\n",
    "        mu4 = good_mu[ak.num(good_mu) >= 4]\n",
    "\n",
    "        if len(mu4) > 0:\n",
    "\n",
    "            # sort the events from highest to lowest transverse momentum\n",
    "            mu4_sorted = mu4[ak.argsort(mu4.pt, axis=-1, ascending=False)]\n",
    "\n",
    "            # select the first 4 muons from the sorted mu4\n",
    "            f4_mu4_sorted = mu4_sorted[:,0:4]\n",
    "\n",
    "            # select the 4 muons with a zero net charge\n",
    "            f4c0_mu4_sorted = f4_mu4_sorted[ak.sum(f4_mu4_sorted[:,:,\"charge\"], axis=-1) == 0]\n",
    "\n",
    "            # creating muon pairs\n",
    "            muon_pair = ak.combinations(f4c0_mu4_sorted, 2)\n",
    "\n",
    "            # combinations with zero net charge\n",
    "            muon_pair_c0 = muon_pair[(muon_pair[\"0\"].charge + muon_pair[\"1\"].charge)==0]\n",
    "\n",
    "            # get the closest Z boson (Za) and farthest Z boson (Zb)\n",
    "            Z_muons = (muon_pair_c0[\"0\"] + muon_pair_c0[\"1\"])\n",
    "            Za_muons = closest(Z_muons)\n",
    "            Zb_muons = Za_muons[:,::-1]\n",
    "\n",
    "            # best combination of muons\n",
    "            Za_2mu = muon_pair_c0[Za_muons]\n",
    "            Zb_2mu = muon_pair_c0[Zb_muons]\n",
    "\n",
    "            # flatten the arrays\n",
    "            Za_mu = ak.flatten(Za_2mu)\n",
    "            Zb_mu = ak.flatten(Zb_2mu)\n",
    "\n",
    "            # Mass requirement \n",
    "            M_Za_mu = (((Za_mu[\"0\"]+Za_mu[\"1\"]).mass>40)&((Za_mu[\"0\"]+Za_mu[\"1\"]).mass<120))\n",
    "            M_Zb_mu = (((Zb_mu[\"0\"]+Zb_mu[\"1\"]).mass>12)&((Zb_mu[\"0\"]+Zb_mu[\"1\"]).mass<120))\n",
    "\n",
    "            # Transverse momentum requirement\n",
    "            pt_Z_mu = (Za_mu[\"0\"].pt>20)&(Za_mu[\"1\"].pt>10)\n",
    "\n",
    "            # applying the cuts to get the good Z bosons\n",
    "            good_Za_mu = Za_mu[pt_Z_mu&M_Za_mu&M_Zb_mu]\n",
    "            good_Zb_mu = Zb_mu[pt_Z_mu&M_Za_mu&M_Zb_mu]\n",
    "\n",
    "            # adding the Z boson pairs (Higgs decay to 4 muons calculation)\n",
    "            higgs4mu = good_Za_mu['0']+good_Za_mu['1'] + good_Zb_mu['0']+good_Zb_mu['1']\n",
    "\n",
    "            # applying a mass range\n",
    "            Higgs_4mu = higgs4mu[higgs4mu.mass>70]\n",
    "\n",
    "            mass_hist.fill(\n",
    "                mass=Higgs_4mu.mass,\n",
    "                channel='4mu',\n",
    "                dataset=dataset\n",
    "            )\n",
    "        \n",
    "        ### Higgs to 4 muons ends ###\n",
    "\n",
    "        ### Higgs to 4 electrons starts ###\n",
    "\n",
    "        # entries with four electrons\n",
    "        e4 = good_e[ ak.num(good_e)>=4 ]\n",
    "        \n",
    "        if len(e4) > 0:\n",
    "\n",
    "            # sorting the events from high to low transverse momentum\n",
    "            e4_sorted = e4[ak.argsort(e4.pt, axis=-1, ascending=False)]\n",
    "\n",
    "            # selecting the first 4 electrons from the sorted e4\n",
    "            f4_e4_sorted = e4_sorted[:,0:4]\n",
    "\n",
    "            # selecting the 4 electrons with a zero net charge\n",
    "            f4c0_e4_sorted = f4_e4_sorted[ ak.sum(f4_e4_sorted[:,:,\"charge\"], axis=-1)==0 ]\n",
    "\n",
    "            # creating electron pairs\n",
    "            e_pair = ak.combinations(f4c0_e4_sorted, 2)\n",
    "\n",
    "            # combinations with zero net charge\n",
    "            e_pair_c0 = e_pair[ (e_pair[\"0\"].charge + e_pair[\"1\"].charge)==0 ]\n",
    "\n",
    "            # get the closest Z boson (Za) and farthest Z boson (Zb)\n",
    "            Z_electrons = ( e_pair_c0[\"0\"] + e_pair_c0[\"1\"] )\n",
    "            Za_electrons = closest(Z_electrons)\n",
    "            Zb_electrons = Za_electrons[:,::-1]\n",
    "\n",
    "            # best combination of electrons\n",
    "            Za_2e = e_pair_c0[Za_electrons]\n",
    "            Zb_2e = e_pair_c0[Zb_electrons]\n",
    "\n",
    "            # flatten the arrays\n",
    "            Za_e = ak.flatten(Za_2e)\n",
    "            Zb_e = ak.flatten(Zb_2e)\n",
    "\n",
    "            # mass requirement\n",
    "            M_Za_e = (((Za_e[\"0\"]+Za_e[\"1\"]).mass>40)&((Za_e[\"0\"]+Za_e[\"1\"]).mass<120))\n",
    "            M_Zb_e = (((Zb_e[\"0\"]+Zb_e[\"1\"]).mass>12)&((Zb_e[\"0\"]+Zb_e[\"1\"]).mass<120))\n",
    "\n",
    "            # transverse momentum requirement\n",
    "            pt_Z_e = (Za_e[\"0\"].pt>20)&(Za_e[\"1\"].pt>10)\n",
    "\n",
    "            # applying the cuts to get the good Z bosons\n",
    "            good_Za_e = Za_e[pt_Z_e&M_Za_e&M_Zb_e]\n",
    "            good_Zb_e = Zb_e[pt_Z_e&M_Za_e&M_Zb_e]\n",
    "\n",
    "            # Adding the pair of Z bosons that decayed to 4 electrons\n",
    "            higgs4e = good_Za_e[\"0\"]+good_Za_e[\"1\"] + good_Zb_e[\"0\"]+good_Zb_e[\"1\"]\n",
    "\n",
    "            # applying a mass range\n",
    "            Higgs_4e = higgs4e[higgs4e.mass>70]\n",
    "\n",
    "            mass_hist.fill(\n",
    "                mass=Higgs_4e.mass,\n",
    "                channel='4e',\n",
    "                dataset=dataset\n",
    "            )\n",
    "\n",
    "        ### Higgs to 4 electrons end ###\n",
    "        \n",
    "        ### Higgs to 2 muons, 2 electrons starts ###\n",
    "\n",
    "        # two objects cut\n",
    "        two_and_two = (ak.num(good_mu)>=2) & (ak.num(good_e)>=2)\n",
    "\n",
    "        # entries with two objects\n",
    "        twomuons = good_mu[ two_and_two ]\n",
    "        twoelect = good_e[ two_and_two ]\n",
    "\n",
    "        if (len(twomuons) > 0) and (len(twoelect) > 0):\n",
    "            \n",
    "            # sort from highest to lowest transverse momentum\n",
    "            twomuons_sorted = twomuons[ak.argsort(twomuons.pt, axis=-1, ascending=False)]\n",
    "\n",
    "            twoelect_sorted = twoelect[ak.argsort(twoelect.pt, axis=-1, ascending=False)]\n",
    "\n",
    "            # first and second muons\n",
    "            mu1 = twomuons_sorted[:,0]\n",
    "            mu2 = twomuons_sorted[:,1]\n",
    "\n",
    "            # first and second electrons\n",
    "            e1 = twoelect_sorted[:,0]\n",
    "            e2 = twoelect_sorted[:,1]\n",
    "\n",
    "            ## \n",
    "            charge_cut = (mu1.charge + mu2.charge ==0) & (e1.charge + e2.charge ==0)\n",
    "            ##\n",
    "\n",
    "            # Z boson from muon pairs\n",
    "            Z_mu = mu1+mu2\n",
    "\n",
    "            # Z boson from electron pairs\n",
    "            Z_e = e1+e2\n",
    "\n",
    "            # real Z boson and Z_mu mass difference\n",
    "            dZmu = abs(Z_mu.mass - mZ)\n",
    "\n",
    "            # real Z boson and Z_e mass difference\n",
    "            dZe = abs(Z_e.mass - mZ)\n",
    "\n",
    "            ## condition to test which pair's mass is closer to the Z boson's mass\n",
    "            mu_is_closer = dZmu < dZe\n",
    "\n",
    "            ptZadaug = (mu_is_closer & ((mu1.pt > 20) & (mu2.pt > 10))) | (~mu_is_closer & ((e1.pt > 20) & (e2.pt > 10)))\n",
    "            ##\n",
    "\n",
    "            # closest pair to the Z boson (Za)\n",
    "            eZa = np.where(mu_is_closer, Z_mu.energy, Z_e.energy)\n",
    "            pxZa = np.where(mu_is_closer, Z_mu.px, Z_e.px)\n",
    "            pyZa = np.where(mu_is_closer, Z_mu.py, Z_e.py)\n",
    "            pzZa = np.where(mu_is_closer, Z_mu.pz, Z_e.pz)\n",
    "            pTZa = np.where(mu_is_closer, Z_mu.pt, Z_e.pt)\n",
    "            mZa = np.where(mu_is_closer, Z_mu.mass, Z_e.mass)\n",
    "\n",
    "            # farthest pair to the Z boson (Zb)\n",
    "            eZb = np.where(mu_is_closer, Z_e.energy, Z_mu.energy)\n",
    "            pxZb = np.where(mu_is_closer, Z_e.px, Z_mu.px)\n",
    "            pyZb = np.where(mu_is_closer, Z_e.py, Z_mu.py)\n",
    "            pzZb = np.where(mu_is_closer, Z_e.pz, Z_mu.pz)\n",
    "            pTZb = np.where(mu_is_closer, Z_e.pt, Z_mu.pt)\n",
    "            mZb = np.where(mu_is_closer, Z_e.mass, Z_mu.mass)\n",
    "\n",
    "            ## \n",
    "            mass_cut = ( (ptZadaug) & ((mZa>40)&(mZa<120)) & ((mZb>12)&(mZb<120)) )\n",
    "            ##\n",
    "\n",
    "            ## calculating the Higgs from the sum of Za and Zb\n",
    "            # energy\n",
    "            H_en = Z_mu.energy + Z_e.energy\n",
    "\n",
    "            # momentum\n",
    "            H_px = Z_mu.px + Z_e.px\n",
    "            H_py = Z_mu.py + Z_e.py\n",
    "            H_pz = Z_mu.pz + Z_e.pz\n",
    "\n",
    "            # momentum's magnitude\n",
    "            H_P = np.sqrt(H_px**2 + H_py**2 + H_pz**2)\n",
    "\n",
    "            # invariant mass\n",
    "            H_M = np.sqrt(H_en**2 - H_P**2)\n",
    "\n",
    "            # applying the charge and mass cuts\n",
    "            higgs2mu2e = H_M[ charge_cut & mass_cut]\n",
    "\n",
    "            # applying a mass range\n",
    "            Higgs_2mu2e = higgs2mu2e[higgs2mu2e>70]\n",
    "\n",
    "            mass_hist.fill(\n",
    "                mass=Higgs_2mu2e,\n",
    "                channel='2e2m',\n",
    "                dataset=dataset\n",
    "            )\n",
    "\n",
    "        ### Higgs to 2 muons, 2 electrons ends ###\n",
    "        \n",
    "        return {\n",
    "            \"sumw\": sumw,\n",
    "            \"mass\": mass_hist,\n",
    "        }"
   ]
  },
  {
   "cell_type": "markdown",
   "id": "40403dc4-c298-4c04-a9db-e0ce5425177d",
   "metadata": {},
   "source": [
    "# Run on a MC File\n",
    "\n",
    "Again, we will run on a CMS Higgs MC sample to demonstrate this all works before unleashing it on all the data samples."
   ]
  },
  {
   "cell_type": "code",
   "execution_count": 8,
   "id": "d2793ea0-beb9-4e4f-9875-3cda954bea8c",
   "metadata": {},
   "outputs": [],
   "source": [
    "def make_ds(name: str, query: ObjectStream):\n",
    "    '''Create a ServiceX Datasource for a particular ATLAS Open data file\n",
    "    '''\n",
    "    from utils import cms_files\n",
    "    datasets = [ServiceXDataset(cms_files[name]['files'], backend_type='cms_run1_aod')]\n",
    "    return DataSource(query=query, metadata={'dataset': name, 'is_data': False}, datasets=datasets)"
   ]
  },
  {
   "cell_type": "code",
   "execution_count": 9,
   "id": "e54cbf8c-76a9-40b0-a1c5-e8884767b657",
   "metadata": {},
   "outputs": [
    {
     "data": {
      "text/plain": [
       "'data_2e_7TeV, data_2mu_7TeV, data_2mu_8TeV_B, data_2mu_8TeV_C, data_2e_8TeV_B, data_2e_8TeV_C, SMHiggsToZZTo4L_M_125_7TeV, SMHiggsToZZTo4L_M-125_8TeV, ZZTo4mu_mll4_7TeV, ZZTo4e_mll4_7TeV_II, ZZTo2e2mu_mll4_7TeV, DYJetsToLL_M-10To50_TuneZ2_7TeV, DYJetsToLL_M-50_TuneZ2Star_8TeV, DYJetsToLL_M-10to50_HT-200to400_TuneZ2star_8TeV, DYJetsToLL_M-10to50_HT-400toInf_TuneZ2star_8TeV, TTTo2L2Nu2B_7TeV, ZZTo4mu_8TeV, ZZTo4e_8TeV, ZZTo2e2mu_8TeV, TTbar_8TeV'"
      ]
     },
     "execution_count": 9,
     "metadata": {},
     "output_type": "execute_result"
    }
   ],
   "source": [
    "from utils import cms_files\n",
    "all_datasets = list(cms_files.keys())\n",
    "', '.join(all_datasets)"
   ]
  },
  {
   "cell_type": "markdown",
   "id": "226cc35b-6829-47f5-8bbc-6b9397bbcc08",
   "metadata": {},
   "source": [
    "The routine that will run on multiple datasets"
   ]
  },
  {
   "cell_type": "code",
   "execution_count": 10,
   "id": "aa7eeae3-167d-488a-89e6-d77d0eab770f",
   "metadata": {},
   "outputs": [],
   "source": [
    "async def run_analysis(names: List[str]):\n",
    "    'Generate base plot for a multiple datafiles'\n",
    "\n",
    "    executor = LocalExecutor(datatype='root')\n",
    "    datasources = [make_ds(ds_name, cms_selection) for ds_name in names]\n",
    "\n",
    "    # Create the analysis and we can run from there.\n",
    "    analysis = CMS_Higgs_4L()\n",
    "\n",
    "    async def run_updates_stream(accumulator_stream, name):\n",
    "        '''Run to get the last item in the stream, with a useful error message'''\n",
    "        coffea_info = None\n",
    "        try:\n",
    "            async for coffea_info in accumulator_stream:\n",
    "                pass\n",
    "        except Exception as e:\n",
    "            raise Exception(f'Failure while processing {name}') from e\n",
    "        return coffea_info\n",
    "\n",
    "    # Run on all items and wait till they are done!\n",
    "    all_plots = await asyncio.gather(*[run_updates_stream(executor.execute(analysis, source), source.metadata['dataset']) for source in datasources])\n",
    "    \n",
    "    all_plots_mass = [p['mass'] for p in all_plots]\n",
    "    mass = all_plots_mass[0]\n",
    "    for p in all_plots_mass[1:]:\n",
    "        mass += p\n",
    "\n",
    "    return mass"
   ]
  },
  {
   "cell_type": "code",
   "execution_count": 11,
   "id": "3a0acb4a-8a56-4d30-ad28-e7966ed22b25",
   "metadata": {},
   "outputs": [
    {
     "name": "stdout",
     "output_type": "stream",
     "text": [
      "10.904223680496216\n"
     ]
    }
   ],
   "source": [
    "import time\n",
    "start_time = time.time()\n",
    "mc_mass_plot = await run_analysis(['SMHiggsToZZTo4L_M_125_7TeV'])\n",
    "print(time.time() - start_time)"
   ]
  },
  {
   "cell_type": "code",
   "execution_count": 12,
   "id": "6b075eb3-1f20-4326-bd7f-7af4a0082f5f",
   "metadata": {},
   "outputs": [
    {
     "data": {
      "image/png": "[encoded data removed]",
      "text/plain": [
       "<Figure size 432x288 with 1 Axes>"
      ]
     },
     "metadata": {
      "needs_background": "light"
     },
     "output_type": "display_data"
    }
   ],
   "source": [
    "artists = mc_mass_plot.project('mass', 'channel').plot(stack=True)\n",
    "ax = artists[0].stairs.axes  # get the axis\n",
    "ax.legend(loc=\"best\");"
   ]
  },
  {
   "cell_type": "code",
   "execution_count": 13,
   "id": "0f2628ff-a8bd-4bc2-9987-32427cf0d77e",
   "metadata": {},
   "outputs": [
    {
     "name": "stdout",
     "output_type": "stream",
     "text": [
      "Hist(\n",
      "  Regular(60, 60, 180, name='mass', label='$m_{4\\\\ell}$ [GeV]'),\n",
      "  StrCategory(['SMHiggsToZZTo4L_M_125_7TeV'], growth=True, name='dataset', label='Cut Type'),\n",
      "  StrCategory(['4mu', '4e', '2e2m'], growth=True, name='channel', label='Channel'),\n",
      "  storage=Int64()) # Sum: 39050.0 (39062.0 with flow)\n"
     ]
    }
   ],
   "source": [
    "print(mc_mass_plot)"
   ]
  },
  {
   "cell_type": "markdown",
   "id": "ffc7c66a-f920-4157-b9f4-cd1d404bc4c7",
   "metadata": {},
   "source": [
    "## Running on all MC and Data Files\n",
    "\n",
    "Here we will repeat the above, but unleash it on all our datasets. These will all be put into a single histogram, with the `dataset` bin marking what sample they are from."
   ]
  },
  {
   "cell_type": "code",
   "execution_count": null,
   "id": "316639d0-35f7-4f87-ab05-66271fa9dc57",
   "metadata": {},
   "outputs": [
    {
     "data": {
      "application/vnd.jupyter.widget-view+json": {
       "model_id": "826186d75064462cb06c05f80a735e9e",
       "version_major": 2,
       "version_minor": 0
      },
      "text/plain": [
       "cernopendata://6030:   0%|                                                                                    …"
      ]
     },
     "metadata": {},
     "output_type": "display_data"
    },
    {
     "data": {
      "application/vnd.jupyter.widget-view+json": {
       "model_id": "f3605409a0124a4a8eb09b5667a691ce",
       "version_major": 2,
       "version_minor": 0
      },
      "text/plain": [
       "        Downloaded:   0%|                                                                                     …"
      ]
     },
     "metadata": {},
     "output_type": "display_data"
    },
    {
     "data": {
      "application/vnd.jupyter.widget-view+json": {
       "model_id": "4629374d69c8493dbc37116c50882c23",
       "version_major": 2,
       "version_minor": 0
      },
      "text/plain": [
       "cernopendata://6004:   0%|                                                                                    …"
      ]
     },
     "metadata": {},
     "output_type": "display_data"
    },
    {
     "data": {
      "application/vnd.jupyter.widget-view+json": {
       "model_id": "48b5899954484639898fbb6b98628087",
       "version_major": 2,
       "version_minor": 0
      },
      "text/plain": [
       "        Downloaded:   0%|                                                                                     …"
      ]
     },
     "metadata": {},
     "output_type": "display_data"
    },
    {
     "data": {
      "application/vnd.jupyter.widget-view+json": {
       "model_id": "4d09b8c6c25b4dfd9c189d31dcdfb391",
       "version_major": 2,
       "version_minor": 0
      },
      "text/plain": [
       "cernopendata://1393:   0%|                                                                                    …"
      ]
     },
     "metadata": {},
     "output_type": "display_data"
    },
    {
     "data": {
      "application/vnd.jupyter.widget-view+json": {
       "model_id": "66bb59b530194d31879fd874be1e5749",
       "version_major": 2,
       "version_minor": 0
      },
      "text/plain": [
       "        Downloaded:   0%|                                                                                     …"
      ]
     },
     "metadata": {},
     "output_type": "display_data"
    },
    {
     "data": {
      "application/vnd.jupyter.widget-view+json": {
       "model_id": "5c1456296f2e4714a86a0944f5ea490b",
       "version_major": 2,
       "version_minor": 0
      },
      "text/plain": [
       "cernopendata://6029:   0%|                                                                                    …"
      ]
     },
     "metadata": {},
     "output_type": "display_data"
    },
    {
     "data": {
      "application/vnd.jupyter.widget-view+json": {
       "model_id": "c61ac9478a374c7f9370340cdae1ba17",
       "version_major": 2,
       "version_minor": 0
      },
      "text/plain": [
       "        Downloaded:   0%|                                                                                     …"
      ]
     },
     "metadata": {},
     "output_type": "display_data"
    },
    {
     "data": {
      "application/vnd.jupyter.widget-view+json": {
       "model_id": "4a78bfb1f946425ab0fd6896b11a010b",
       "version_major": 2,
       "version_minor": 0
      },
      "text/plain": [
       "cernopendata://1360:   0%|                                                                                    …"
      ]
     },
     "metadata": {},
     "output_type": "display_data"
    },
    {
     "data": {
      "application/vnd.jupyter.widget-view+json": {
       "model_id": "d54073983f2045f2b63522b2cea5a633",
       "version_major": 2,
       "version_minor": 0
      },
      "text/plain": [
       "        Downloaded:   0%|                                                                                     …"
      ]
     },
     "metadata": {},
     "output_type": "display_data"
    },
    {
     "data": {
      "application/vnd.jupyter.widget-view+json": {
       "model_id": "f658fa62a4484811b04248e7e611a6c1",
       "version_major": 2,
       "version_minor": 0
      },
      "text/plain": [
       "cernopendata://6003:   0%|                                                                                    …"
      ]
     },
     "metadata": {},
     "output_type": "display_data"
    },
    {
     "data": {
      "application/vnd.jupyter.widget-view+json": {
       "model_id": "72979bcb85094be0946a1b079f545c68",
       "version_major": 2,
       "version_minor": 0
      },
      "text/plain": [
       "        Downloaded:   0%|                                                                                     …"
      ]
     },
     "metadata": {},
     "output_type": "display_data"
    },
    {
     "data": {
      "application/vnd.jupyter.widget-view+json": {
       "model_id": "35574c0b05924899b6255eea6a4e2f3d",
       "version_major": 2,
       "version_minor": 0
      },
      "text/plain": [
       "cernopendata://7731:   0%|                                                                                    …"
      ]
     },
     "metadata": {},
     "output_type": "display_data"
    },
    {
     "data": {
      "application/vnd.jupyter.widget-view+json": {
       "model_id": "e3d8b00e85f741ce807676dc1cb59b26",
       "version_major": 2,
       "version_minor": 0
      },
      "text/plain": [
       "        Downloaded:   0%|                                                                                     …"
      ]
     },
     "metadata": {},
     "output_type": "display_data"
    },
    {
     "data": {
      "application/vnd.jupyter.widget-view+json": {
       "model_id": "57050ad16b814b2d96f02c79a1bab4e2",
       "version_major": 2,
       "version_minor": 0
      },
      "text/plain": [
       "cernopendata://17:   0%|                                                                                      …"
      ]
     },
     "metadata": {},
     "output_type": "display_data"
    },
    {
     "data": {
      "application/vnd.jupyter.widget-view+json": {
       "model_id": "7878d32d53a941c0b091ec5042fa9a96",
       "version_major": 2,
       "version_minor": 0
      },
      "text/plain": [
       "        Downloaded:   0%|                                                                                     …"
      ]
     },
     "metadata": {},
     "output_type": "display_data"
    },
    {
     "data": {
      "application/vnd.jupyter.widget-view+json": {
       "model_id": "8223e3b91abd43f6a1953a8edd2165a5",
       "version_major": 2,
       "version_minor": 0
      },
      "text/plain": [
       "cernopendata://7727:   0%|                                                                                    …"
      ]
     },
     "metadata": {},
     "output_type": "display_data"
    },
    {
     "data": {
      "application/vnd.jupyter.widget-view+json": {
       "model_id": "216c35b591af424185d9842fda540a5e",
       "version_major": 2,
       "version_minor": 0
      },
      "text/plain": [
       "        Downloaded:   0%|                                                                                     …"
      ]
     },
     "metadata": {},
     "output_type": "display_data"
    },
    {
     "data": {
      "application/vnd.jupyter.widget-view+json": {
       "model_id": "d4a3d10b69c44682b9e83ef8f7cac0bd",
       "version_major": 2,
       "version_minor": 0
      },
      "text/plain": [
       "cernopendata://16:   0%|                                                                                      …"
      ]
     },
     "metadata": {},
     "output_type": "display_data"
    },
    {
     "data": {
      "application/vnd.jupyter.widget-view+json": {
       "model_id": "93cb6af73d614e3eaff116a44093f563",
       "version_major": 2,
       "version_minor": 0
      },
      "text/plain": [
       "        Downloaded:   0%|                                                                                     …"
      ]
     },
     "metadata": {},
     "output_type": "display_data"
    }
   ],
   "source": [
    "mass_plot = await run_analysis(all_datasets)"
   ]
  },
  {
   "cell_type": "code",
   "execution_count": null,
   "id": "083c55eb-038a-4fc8-bb46-cd183ad93bb1",
   "metadata": {},
   "outputs": [],
   "source": [
    "artists = mass_plot.project('mass', 'dataset').plot()\n",
    "ax = artists[0].stairs.axes  # get the axis\n",
    "ax.legend(loc=\"best\");"
   ]
  },
  {
   "cell_type": "code",
   "execution_count": null,
   "id": "94898e90-6aec-4be4-9014-8497da20cb35",
   "metadata": {},
   "outputs": [],
   "source": []
  }
 ],
 "metadata": {
  "kernelspec": {
   "display_name": "Python 3 (ipykernel)",
   "language": "python",
   "name": "python3"
  },
  "language_info": {
   "codemirror_mode": {
    "name": "ipython",
    "version": 3
   },
   "file_extension": ".py",
   "mimetype": "text/x-python",
   "name": "python",
   "nbconvert_exporter": "python",
   "pygments_lexer": "ipython3",
   "version": "3.9.6"
  }
 },
 "nbformat": 4,
 "nbformat_minor": 5
}
